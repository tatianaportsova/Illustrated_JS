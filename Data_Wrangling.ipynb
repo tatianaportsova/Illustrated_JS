{
 "cells": [
  {
   "cell_type": "code",
   "execution_count": 241,
   "metadata": {},
   "outputs": [],
   "source": [
    "import pandas as pd\n",
    "import numpy as np\n",
    "import re\n",
    "\n",
    "# Ignore the warnings\n",
    "import warnings\n",
    "warnings.simplefilter('ignore')\n",
    "warnings.filterwarnings(action='ignore', category=FutureWarning, module='xgboost')"
   ]
  },
  {
   "cell_type": "code",
   "execution_count": 242,
   "metadata": {},
   "outputs": [
    {
     "data": {
      "text/html": [
       "<div>\n",
       "<style scoped>\n",
       "    .dataframe tbody tr th:only-of-type {\n",
       "        vertical-align: middle;\n",
       "    }\n",
       "\n",
       "    .dataframe tbody tr th {\n",
       "        vertical-align: top;\n",
       "    }\n",
       "\n",
       "    .dataframe thead th {\n",
       "        text-align: right;\n",
       "    }\n",
       "</style>\n",
       "<table border=\"1\" class=\"dataframe\">\n",
       "  <thead>\n",
       "    <tr style=\"text-align: right;\">\n",
       "      <th></th>\n",
       "      <th>Timestamp</th>\n",
       "      <th>Username</th>\n",
       "      <th>What is your background in Computer Science?</th>\n",
       "      <th>How confident are you with the basics of Computer Science fundamentals?</th>\n",
       "      <th>What platforms do you currently use to study Computer Science?</th>\n",
       "      <th>What features do you look for in a Computer Science course?</th>\n",
       "      <th>Have you ever purchased an online CS course?</th>\n",
       "      <th>How much would you be willing to spend on a premium monthly subscription for a Computer Science course?</th>\n",
       "      <th>What would you say is your learning style?</th>\n",
       "      <th>In the courses you've taken, do you find illustrations, animations, and/or icons distracting or helpful to your understanding of the subject at hand?</th>\n",
       "      <th>When a course offers a quiz at the end of each lesson/course, do you feel this reinforces your understanding of the content?</th>\n",
       "      <th>Would you be comfortable staying in contact with illustratedJS, including being interviewed to help in our User Testing phase?</th>\n",
       "    </tr>\n",
       "  </thead>\n",
       "  <tbody>\n",
       "    <tr>\n",
       "      <th>0</th>\n",
       "      <td>2020/10/07 3:42:39 PM AST</td>\n",
       "      <td>barbaraloismoore@gmail.com</td>\n",
       "      <td>Bootcamp</td>\n",
       "      <td>3</td>\n",
       "      <td>Youtube;Leet Code</td>\n",
       "      <td>Videos in your CS language;Conceptual visual v...</td>\n",
       "      <td>No</td>\n",
       "      <td>Up to $20</td>\n",
       "      <td>Visual</td>\n",
       "      <td>Helpful</td>\n",
       "      <td>Yes</td>\n",
       "      <td>Yes</td>\n",
       "    </tr>\n",
       "    <tr>\n",
       "      <th>1</th>\n",
       "      <td>2020/10/07 3:44:56 PM AST</td>\n",
       "      <td>duellrdh@gmail.com</td>\n",
       "      <td>Bootcamp</td>\n",
       "      <td>3</td>\n",
       "      <td>Youtube;CodeCademy;Leet Code;CodeSignal;Lambda...</td>\n",
       "      <td>Videos in your CS language;Documented code;Vis...</td>\n",
       "      <td>Yes</td>\n",
       "      <td>Up to $35</td>\n",
       "      <td>Read &amp; Write</td>\n",
       "      <td>Helpful</td>\n",
       "      <td>Yes</td>\n",
       "      <td>Yes</td>\n",
       "    </tr>\n",
       "  </tbody>\n",
       "</table>\n",
       "</div>"
      ],
      "text/plain": [
       "                   Timestamp                    Username  \\\n",
       "0  2020/10/07 3:42:39 PM AST  barbaraloismoore@gmail.com   \n",
       "1  2020/10/07 3:44:56 PM AST          duellrdh@gmail.com   \n",
       "\n",
       "  What is your background in Computer Science?  \\\n",
       "0                                     Bootcamp   \n",
       "1                                     Bootcamp   \n",
       "\n",
       "   How confident are you with the basics of Computer Science fundamentals?  \\\n",
       "0                                                  3                         \n",
       "1                                                  3                         \n",
       "\n",
       "  What platforms do you currently use to study Computer Science?  \\\n",
       "0                                  Youtube;Leet Code               \n",
       "1  Youtube;CodeCademy;Leet Code;CodeSignal;Lambda...               \n",
       "\n",
       "  What features do you look for in a Computer Science course?  \\\n",
       "0  Videos in your CS language;Conceptual visual v...            \n",
       "1  Videos in your CS language;Documented code;Vis...            \n",
       "\n",
       "  Have you ever purchased an online CS course?  \\\n",
       "0                                           No   \n",
       "1                                          Yes   \n",
       "\n",
       "  How much would you be willing to spend on a premium monthly subscription for a Computer Science course?  \\\n",
       "0                                          Up to $20                                                        \n",
       "1                                          Up to $35                                                        \n",
       "\n",
       "  What would you say is your learning style?  \\\n",
       "0                                     Visual   \n",
       "1                               Read & Write   \n",
       "\n",
       "  In the courses you've taken, do you find illustrations, animations, and/or icons distracting or helpful to your understanding of the subject at hand?  \\\n",
       "0                                            Helpful                                                                                                      \n",
       "1                                            Helpful                                                                                                      \n",
       "\n",
       "  When a course offers a quiz at the end of each lesson/course, do you feel this reinforces your understanding of the content?  \\\n",
       "0                                                Yes                                                                             \n",
       "1                                                Yes                                                                             \n",
       "\n",
       "  Would you be comfortable staying in contact with illustratedJS, including being interviewed to help in our User Testing phase?  \n",
       "0                                                Yes                                                                              \n",
       "1                                                Yes                                                                              "
      ]
     },
     "execution_count": 242,
     "metadata": {},
     "output_type": "execute_result"
    }
   ],
   "source": [
    "df = pd.read_csv(\"computer_science_education_user_survey.csv\")\n",
    "df.head(2)"
   ]
  },
  {
   "cell_type": "code",
   "execution_count": 243,
   "metadata": {},
   "outputs": [
    {
     "name": "stdout",
     "output_type": "stream",
     "text": [
      "(134, 12)\n"
     ]
    },
    {
     "data": {
      "text/html": [
       "<div>\n",
       "<style scoped>\n",
       "    .dataframe tbody tr th:only-of-type {\n",
       "        vertical-align: middle;\n",
       "    }\n",
       "\n",
       "    .dataframe tbody tr th {\n",
       "        vertical-align: top;\n",
       "    }\n",
       "\n",
       "    .dataframe thead th {\n",
       "        text-align: right;\n",
       "    }\n",
       "</style>\n",
       "<table border=\"1\" class=\"dataframe\">\n",
       "  <thead>\n",
       "    <tr style=\"text-align: right;\">\n",
       "      <th></th>\n",
       "      <th>Timestamp</th>\n",
       "      <th>Username</th>\n",
       "      <th>Background_CS</th>\n",
       "      <th>Confidence_CS</th>\n",
       "      <th>Platforms_CS</th>\n",
       "      <th>Features_CS</th>\n",
       "      <th>Purchased</th>\n",
       "      <th>Max_Amount</th>\n",
       "      <th>Learning_Style</th>\n",
       "      <th>Visual _Materials</th>\n",
       "      <th>Quiz_Importance</th>\n",
       "      <th>Cooperativness</th>\n",
       "    </tr>\n",
       "  </thead>\n",
       "  <tbody>\n",
       "    <tr>\n",
       "      <th>0</th>\n",
       "      <td>2020/10/07 3:42:39 PM AST</td>\n",
       "      <td>barbaraloismoore@gmail.com</td>\n",
       "      <td>Bootcamp</td>\n",
       "      <td>3</td>\n",
       "      <td>Youtube;Leet Code</td>\n",
       "      <td>Videos in your CS language;Conceptual visual v...</td>\n",
       "      <td>No</td>\n",
       "      <td>Up to $20</td>\n",
       "      <td>Visual</td>\n",
       "      <td>Helpful</td>\n",
       "      <td>Yes</td>\n",
       "      <td>Yes</td>\n",
       "    </tr>\n",
       "    <tr>\n",
       "      <th>1</th>\n",
       "      <td>2020/10/07 3:44:56 PM AST</td>\n",
       "      <td>duellrdh@gmail.com</td>\n",
       "      <td>Bootcamp</td>\n",
       "      <td>3</td>\n",
       "      <td>Youtube;CodeCademy;Leet Code;CodeSignal;Lambda...</td>\n",
       "      <td>Videos in your CS language;Documented code;Vis...</td>\n",
       "      <td>Yes</td>\n",
       "      <td>Up to $35</td>\n",
       "      <td>Read &amp; Write</td>\n",
       "      <td>Helpful</td>\n",
       "      <td>Yes</td>\n",
       "      <td>Yes</td>\n",
       "    </tr>\n",
       "    <tr>\n",
       "      <th>2</th>\n",
       "      <td>2020/10/07 3:47:04 PM AST</td>\n",
       "      <td>christine.fletcher0101@gmail.com</td>\n",
       "      <td>Bootcamp</td>\n",
       "      <td>3</td>\n",
       "      <td>Youtube;Leet Code</td>\n",
       "      <td>Videos in your CS language;Conceptual visual v...</td>\n",
       "      <td>Yes</td>\n",
       "      <td>$0 - $10</td>\n",
       "      <td>Auditory</td>\n",
       "      <td>Helpful</td>\n",
       "      <td>Yes</td>\n",
       "      <td>Yes</td>\n",
       "    </tr>\n",
       "  </tbody>\n",
       "</table>\n",
       "</div>"
      ],
      "text/plain": [
       "                   Timestamp                          Username Background_CS  \\\n",
       "0  2020/10/07 3:42:39 PM AST        barbaraloismoore@gmail.com      Bootcamp   \n",
       "1  2020/10/07 3:44:56 PM AST                duellrdh@gmail.com      Bootcamp   \n",
       "2  2020/10/07 3:47:04 PM AST  christine.fletcher0101@gmail.com      Bootcamp   \n",
       "\n",
       "   Confidence_CS                                       Platforms_CS  \\\n",
       "0              3                                  Youtube;Leet Code   \n",
       "1              3  Youtube;CodeCademy;Leet Code;CodeSignal;Lambda...   \n",
       "2              3                                  Youtube;Leet Code   \n",
       "\n",
       "                                         Features_CS Purchased Max_Amount  \\\n",
       "0  Videos in your CS language;Conceptual visual v...        No  Up to $20   \n",
       "1  Videos in your CS language;Documented code;Vis...       Yes  Up to $35   \n",
       "2  Videos in your CS language;Conceptual visual v...       Yes   $0 - $10   \n",
       "\n",
       "  Learning_Style Visual _Materials Quiz_Importance Cooperativness  \n",
       "0         Visual           Helpful             Yes            Yes  \n",
       "1   Read & Write           Helpful             Yes            Yes  \n",
       "2       Auditory           Helpful             Yes            Yes  "
      ]
     },
     "execution_count": 243,
     "metadata": {},
     "output_type": "execute_result"
    }
   ],
   "source": [
    "# New column names:'Timestamp', 'Username', \n",
    "#                  'Background_CS', 'Confidence_CS',\n",
    "#                  'Platforms_CS', 'Features_CS', \n",
    "#                  'Purchased', 'Max_Amount',\n",
    "#                  'Learning_Style', 'Visual _Materials',\n",
    "#                  'Quiz_Importance', 'Cooperativness'.\n",
    "\n",
    "df_new = df.rename(columns = {'What is your background in Computer Science?':'Background_CS',\n",
    "                              'How confident are you with the basics of Computer Science fundamentals?':'Confidence_CS',\n",
    "                              'What platforms do you currently use to study Computer Science?':'Platforms_CS',\n",
    "                              'What features do you look for in a Computer Science course?':'Features_CS',\n",
    "                              'Have you ever purchased an online CS course?':'Purchased',\n",
    "                              'How much would you be willing to spend on a premium monthly subscription for a Computer Science course?':'Max_Amount',\n",
    "                              'What would you say is your learning style?':'Learning_Style',\n",
    "                              \"In the courses you've taken, do you find illustrations, animations, and/or icons distracting or helpful to your understanding of the subject at hand?\":'Visual _Materials',\n",
    "                              'When a course offers a quiz at the end of each lesson/course, do you feel this reinforces your understanding of the content?':'Quiz_Importance',\n",
    "                              'Would you be comfortable staying in contact with illustratedJS, including being interviewed to help in our User Testing phase?':'Cooperativness'})\n",
    "\n",
    "print(df_new.shape)\n",
    "df_new.head(3)\n"
   ]
  },
  {
   "cell_type": "code",
   "execution_count": 244,
   "metadata": {},
   "outputs": [
    {
     "data": {
      "text/plain": [
       "Timestamp            object\n",
       "Username             object\n",
       "Background_CS        object\n",
       "Confidence_CS         int64\n",
       "Platforms_CS         object\n",
       "Features_CS          object\n",
       "Purchased            object\n",
       "Max_Amount           object\n",
       "Learning_Style       object\n",
       "Visual _Materials    object\n",
       "Quiz_Importance      object\n",
       "Cooperativness       object\n",
       "dtype: object"
      ]
     },
     "execution_count": 244,
     "metadata": {},
     "output_type": "execute_result"
    }
   ],
   "source": [
    "df_new.dtypes"
   ]
  },
  {
   "cell_type": "code",
   "execution_count": 245,
   "metadata": {},
   "outputs": [
    {
     "data": {
      "text/plain": [
       "'Up to $20'"
      ]
     },
     "execution_count": 245,
     "metadata": {},
     "output_type": "execute_result"
    }
   ],
   "source": [
    "df_new['Max_Amount'][0]"
   ]
  },
  {
   "cell_type": "code",
   "execution_count": 246,
   "metadata": {},
   "outputs": [],
   "source": [
    "def get_int(cell_contents):\n",
    "    try:\n",
    "        return int(re.sub('\\D', '', cell_contents))\n",
    "    except:\n",
    "        pass"
   ]
  },
  {
   "cell_type": "code",
   "execution_count": 247,
   "metadata": {},
   "outputs": [],
   "source": [
    "df_new['Max_Amount'] = df_new['Max_Amount'].apply(get_int)"
   ]
  },
  {
   "cell_type": "code",
   "execution_count": 248,
   "metadata": {},
   "outputs": [
    {
     "data": {
      "text/html": [
       "<div>\n",
       "<style scoped>\n",
       "    .dataframe tbody tr th:only-of-type {\n",
       "        vertical-align: middle;\n",
       "    }\n",
       "\n",
       "    .dataframe tbody tr th {\n",
       "        vertical-align: top;\n",
       "    }\n",
       "\n",
       "    .dataframe thead th {\n",
       "        text-align: right;\n",
       "    }\n",
       "</style>\n",
       "<table border=\"1\" class=\"dataframe\">\n",
       "  <thead>\n",
       "    <tr style=\"text-align: right;\">\n",
       "      <th></th>\n",
       "      <th>Timestamp</th>\n",
       "      <th>Username</th>\n",
       "      <th>Background_CS</th>\n",
       "      <th>Confidence_CS</th>\n",
       "      <th>Platforms_CS</th>\n",
       "      <th>Features_CS</th>\n",
       "      <th>Purchased</th>\n",
       "      <th>Max_Amount</th>\n",
       "      <th>Learning_Style</th>\n",
       "      <th>Visual _Materials</th>\n",
       "      <th>Quiz_Importance</th>\n",
       "      <th>Cooperativness</th>\n",
       "    </tr>\n",
       "  </thead>\n",
       "  <tbody>\n",
       "    <tr>\n",
       "      <th>0</th>\n",
       "      <td>2020/10/07 3:42:39 PM AST</td>\n",
       "      <td>barbaraloismoore@gmail.com</td>\n",
       "      <td>Bootcamp</td>\n",
       "      <td>3</td>\n",
       "      <td>Youtube;Leet Code</td>\n",
       "      <td>Videos in your CS language;Conceptual visual v...</td>\n",
       "      <td>No</td>\n",
       "      <td>20.0</td>\n",
       "      <td>Visual</td>\n",
       "      <td>Helpful</td>\n",
       "      <td>Yes</td>\n",
       "      <td>Yes</td>\n",
       "    </tr>\n",
       "    <tr>\n",
       "      <th>1</th>\n",
       "      <td>2020/10/07 3:44:56 PM AST</td>\n",
       "      <td>duellrdh@gmail.com</td>\n",
       "      <td>Bootcamp</td>\n",
       "      <td>3</td>\n",
       "      <td>Youtube;CodeCademy;Leet Code;CodeSignal;Lambda...</td>\n",
       "      <td>Videos in your CS language;Documented code;Vis...</td>\n",
       "      <td>Yes</td>\n",
       "      <td>35.0</td>\n",
       "      <td>Read &amp; Write</td>\n",
       "      <td>Helpful</td>\n",
       "      <td>Yes</td>\n",
       "      <td>Yes</td>\n",
       "    </tr>\n",
       "    <tr>\n",
       "      <th>2</th>\n",
       "      <td>2020/10/07 3:47:04 PM AST</td>\n",
       "      <td>christine.fletcher0101@gmail.com</td>\n",
       "      <td>Bootcamp</td>\n",
       "      <td>3</td>\n",
       "      <td>Youtube;Leet Code</td>\n",
       "      <td>Videos in your CS language;Conceptual visual v...</td>\n",
       "      <td>Yes</td>\n",
       "      <td>10.0</td>\n",
       "      <td>Auditory</td>\n",
       "      <td>Helpful</td>\n",
       "      <td>Yes</td>\n",
       "      <td>Yes</td>\n",
       "    </tr>\n",
       "    <tr>\n",
       "      <th>3</th>\n",
       "      <td>2020/10/07 3:47:50 PM AST</td>\n",
       "      <td>natalienetworks@gmail.com</td>\n",
       "      <td>Bootcamp</td>\n",
       "      <td>3</td>\n",
       "      <td>Udemy;Algo Expert;Leet Code;HackerRank</td>\n",
       "      <td>Conceptual visual videos;Documented code;Visua...</td>\n",
       "      <td>Yes</td>\n",
       "      <td>20.0</td>\n",
       "      <td>Kinesthetic</td>\n",
       "      <td>Helpful</td>\n",
       "      <td>No</td>\n",
       "      <td>Yes</td>\n",
       "    </tr>\n",
       "    <tr>\n",
       "      <th>4</th>\n",
       "      <td>2020/10/07 3:49:03 PM AST</td>\n",
       "      <td>joowoonk@gmail.com</td>\n",
       "      <td>Bootcamp</td>\n",
       "      <td>2</td>\n",
       "      <td>Youtube;Leet Code;Educative</td>\n",
       "      <td>Conceptual visual videos;Visualizations/animat...</td>\n",
       "      <td>Yes</td>\n",
       "      <td>20.0</td>\n",
       "      <td>Auditory</td>\n",
       "      <td>Helpful</td>\n",
       "      <td>Yes</td>\n",
       "      <td>No</td>\n",
       "    </tr>\n",
       "  </tbody>\n",
       "</table>\n",
       "</div>"
      ],
      "text/plain": [
       "                   Timestamp                          Username Background_CS  \\\n",
       "0  2020/10/07 3:42:39 PM AST        barbaraloismoore@gmail.com      Bootcamp   \n",
       "1  2020/10/07 3:44:56 PM AST                duellrdh@gmail.com      Bootcamp   \n",
       "2  2020/10/07 3:47:04 PM AST  christine.fletcher0101@gmail.com      Bootcamp   \n",
       "3  2020/10/07 3:47:50 PM AST         natalienetworks@gmail.com      Bootcamp   \n",
       "4  2020/10/07 3:49:03 PM AST                joowoonk@gmail.com      Bootcamp   \n",
       "\n",
       "   Confidence_CS                                       Platforms_CS  \\\n",
       "0              3                                  Youtube;Leet Code   \n",
       "1              3  Youtube;CodeCademy;Leet Code;CodeSignal;Lambda...   \n",
       "2              3                                  Youtube;Leet Code   \n",
       "3              3             Udemy;Algo Expert;Leet Code;HackerRank   \n",
       "4              2                        Youtube;Leet Code;Educative   \n",
       "\n",
       "                                         Features_CS Purchased  Max_Amount  \\\n",
       "0  Videos in your CS language;Conceptual visual v...        No        20.0   \n",
       "1  Videos in your CS language;Documented code;Vis...       Yes        35.0   \n",
       "2  Videos in your CS language;Conceptual visual v...       Yes        10.0   \n",
       "3  Conceptual visual videos;Documented code;Visua...       Yes        20.0   \n",
       "4  Conceptual visual videos;Visualizations/animat...       Yes        20.0   \n",
       "\n",
       "  Learning_Style Visual _Materials Quiz_Importance Cooperativness  \n",
       "0         Visual           Helpful             Yes            Yes  \n",
       "1   Read & Write           Helpful             Yes            Yes  \n",
       "2       Auditory           Helpful             Yes            Yes  \n",
       "3    Kinesthetic           Helpful              No            Yes  \n",
       "4       Auditory           Helpful             Yes             No  "
      ]
     },
     "execution_count": 248,
     "metadata": {},
     "output_type": "execute_result"
    }
   ],
   "source": [
    "df_new.head(5)"
   ]
  },
  {
   "cell_type": "code",
   "execution_count": 249,
   "metadata": {},
   "outputs": [
    {
     "data": {
      "text/plain": [
       "Timestamp            0\n",
       "Username             0\n",
       "Background_CS        0\n",
       "Confidence_CS        0\n",
       "Platforms_CS         0\n",
       "Features_CS          0\n",
       "Purchased            0\n",
       "Max_Amount           1\n",
       "Learning_Style       0\n",
       "Visual _Materials    1\n",
       "Quiz_Importance      2\n",
       "Cooperativness       1\n",
       "dtype: int64"
      ]
     },
     "execution_count": 249,
     "metadata": {},
     "output_type": "execute_result"
    }
   ],
   "source": [
    "df_new.isnull().sum()"
   ]
  },
  {
   "cell_type": "code",
   "execution_count": 250,
   "metadata": {},
   "outputs": [
    {
     "data": {
      "text/plain": [
       "10.0    66\n",
       "20.0    37\n",
       "30.0    11\n",
       "25.0    10\n",
       "35.0     9\n",
       "Name: Max_Amount, dtype: int64"
      ]
     },
     "execution_count": 250,
     "metadata": {},
     "output_type": "execute_result"
    }
   ],
   "source": [
    "df_new['Max_Amount'].value_counts()"
   ]
  },
  {
   "cell_type": "code",
   "execution_count": 251,
   "metadata": {},
   "outputs": [
    {
     "data": {
      "image/png": "[encoded data removed]",
      "text/plain": [
       "<Figure size 360x360 with 6 Axes>"
      ]
     },
     "metadata": {
      "needs_background": "light"
     },
     "output_type": "display_data"
    }
   ],
   "source": [
    "import seaborn as sns\n",
    "ax = sns.pairplot(df_new)"
   ]
  },
  {
   "cell_type": "code",
   "execution_count": 252,
   "metadata": {},
   "outputs": [
    {
     "data": {
      "text/plain": [
       "Visual          50\n",
       "Kinesthetic     46\n",
       "Read & Write    31\n",
       "Auditory         7\n",
       "Name: Learning_Style, dtype: int64"
      ]
     },
     "execution_count": 252,
     "metadata": {},
     "output_type": "execute_result"
    }
   ],
   "source": [
    "df_new['Learning_Style'].value_counts()"
   ]
  },
  {
   "cell_type": "code",
   "execution_count": 253,
   "metadata": {},
   "outputs": [
    {
     "data": {
      "image/png": "[encoded data removed]",
      "text/plain": [
       "<Figure size 432x288 with 1 Axes>"
      ]
     },
     "metadata": {
      "needs_background": "light"
     },
     "output_type": "display_data"
    }
   ],
   "source": [
    "pd.crosstab(df_new['Confidence_CS'],df_new['Learning_Style']).plot();"
   ]
  },
  {
   "cell_type": "code",
   "execution_count": 254,
   "metadata": {},
   "outputs": [
    {
     "data": {
      "image/png": "[encoded data removed]",
      "text/plain": [
       "<Figure size 432x288 with 1 Axes>"
      ]
     },
     "metadata": {
      "needs_background": "light"
     },
     "output_type": "display_data"
    }
   ],
   "source": [
    "pd.crosstab(df_new['Confidence_CS'],df_new['Purchased']).plot();"
   ]
  },
  {
   "cell_type": "code",
   "execution_count": 255,
   "metadata": {},
   "outputs": [
    {
     "data": {
      "image/png": "[encoded data removed]",
      "text/plain": [
       "<Figure size 432x288 with 1 Axes>"
      ]
     },
     "metadata": {
      "needs_background": "light"
     },
     "output_type": "display_data"
    }
   ],
   "source": [
    "pd.crosstab(df_new['Confidence_CS'],df_new['Max_Amount']).plot();"
   ]
  },
  {
   "cell_type": "code",
   "execution_count": 256,
   "metadata": {},
   "outputs": [
    {
     "data": {
      "text/plain": [
       "'Youtube;Leet Code'"
      ]
     },
     "execution_count": 256,
     "metadata": {},
     "output_type": "execute_result"
    }
   ],
   "source": [
    "df_new['Platforms_CS'][0]"
   ]
  },
  {
   "cell_type": "code",
   "execution_count": 257,
   "metadata": {},
   "outputs": [],
   "source": [
    "def split_str(cell_contents):\n",
    "    try:\n",
    "        return cell_contents.lower().replace(', ', ';').split(';')\n",
    "    except:\n",
    "        pass"
   ]
  },
  {
   "cell_type": "code",
   "execution_count": 258,
   "metadata": {},
   "outputs": [],
   "source": [
    "df_new['Platforms_CS'] = df_new['Platforms_CS'].apply(split_str)"
   ]
  },
  {
   "cell_type": "code",
   "execution_count": 259,
   "metadata": {},
   "outputs": [
    {
     "data": {
      "text/plain": [
       "0                                   [youtube, leet code]\n",
       "1      [youtube, codecademy, leet code, codesignal, l...\n",
       "2                                   [youtube, leet code]\n",
       "3            [udemy, algo expert, leet code, hackerrank]\n",
       "4                        [youtube, leet code, educative]\n",
       "                             ...                        \n",
       "129                     [youtube, leet code, hackerrank]\n",
       "130                                            [youtube]\n",
       "131    [youtube, udemy, codecademy, leet code, hacker...\n",
       "132         [youtube, leet code, hackerrank, codesignal]\n",
       "133    [leet code, lambda school, khan academy, cs50 ...\n",
       "Name: Platforms_CS, Length: 134, dtype: object"
      ]
     },
     "execution_count": 259,
     "metadata": {},
     "output_type": "execute_result"
    }
   ],
   "source": [
    "df_new['Platforms_CS']"
   ]
  },
  {
   "cell_type": "code",
   "execution_count": 260,
   "metadata": {},
   "outputs": [],
   "source": [
    "# df_new['tokens'] = df_new['Platforms_CS'].apply(tokenize)\n",
    "# df_new['tokens']"
   ]
  },
  {
   "cell_type": "code",
   "execution_count": 261,
   "metadata": {},
   "outputs": [
    {
     "name": "stdout",
     "output_type": "stream",
     "text": [
      "{'youtube': 105, 'leet code': 85, 'codecademy': 20, 'codesignal': 42, 'udemy': 56, 'algo expert': 14, 'hackerrank': 66, 'educative': 11, 'frontend masters': 21, 'codewars': 1, 'real python': 1, 'books': 2, 'exercism': 1, 'google': 15, 'npm': 1, 'github': 1, \"the tech's documentation\": 1, 'geek for geeks': 1, 'mdn': 1, 'textbooks': 2, 'medium': 1, 'dev.to': 1, 'linkedin learning': 1, 'interviewcake/practice': 1, 'other various code challenge sites like project euler': 1, 'and my own small projects': 1, 'coursera': 2, 'lambda': 2, 'geekforgeeks': 1, 'teamtreehouse': 1, 'pluralsight': 1, 'i volunteer to write docs or edit materials for projects and become familiar in that manner': 1, 'not really anything': 1, 'trying to brush up on web core skills': 1, \"i don't\": 1, 'i just go to work': 1, 'interview cake': 1, 'free intro to cs material from colleges': 1, 'codility': 1, 'khan academy': 1, 'cs50 at harvard': 1, 'cs61 at berkeley ': 1}\n"
     ]
    }
   ],
   "source": [
    "cache = {}\n",
    "for entry in df_new['Platforms_CS']:\n",
    "    for i in entry:\n",
    "        if i in cache:\n",
    "            cache[i] += 1\n",
    "        else:\n",
    "            cache[i] = 1\n",
    "            \n",
    "for i in list(cache):\n",
    "    if 'google' in i and i != 'google':\n",
    "        cache['google'] += cache[i]\n",
    "        del cache[i]\n",
    "    elif 'lambda' in i and i != 'lambda':\n",
    "        cache['google'] += cache[i]\n",
    "        del cache[i]\n",
    "        \n",
    "print(cache)"
   ]
  },
  {
   "cell_type": "code",
   "execution_count": 262,
   "metadata": {},
   "outputs": [],
   "source": [
    "# c = {k: v for k, v in sorted(cache.items(), key=lambda item: item[1], reverse=True)}\n",
    "# print(c)"
   ]
  },
  {
   "cell_type": "code",
   "execution_count": 263,
   "metadata": {},
   "outputs": [
    {
     "data": {
      "text/plain": [
       "['youtube',\n",
       " 'leet code',\n",
       " 'hackerrank',\n",
       " 'udemy',\n",
       " 'codesignal',\n",
       " 'frontend masters',\n",
       " 'codecademy',\n",
       " 'google',\n",
       " 'algo expert',\n",
       " 'educative',\n",
       " 'lambda']"
      ]
     },
     "execution_count": 263,
     "metadata": {},
     "output_type": "execute_result"
    }
   ],
   "source": [
    "cols = list({k: v for k, v in sorted(cache.items(), key=lambda item: item[1], reverse=True)})[:10]\n",
    "cols.append('lambda')\n",
    "# cols.append('other')\n",
    "cols"
   ]
  },
  {
   "cell_type": "code",
   "execution_count": 264,
   "metadata": {},
   "outputs": [],
   "source": [
    "def col(dataset):\n",
    "\n",
    "  X = dataset.copy()\n",
    "\n",
    "  X = X[X['Max_Amount'].notna()]\n",
    "  X.reset_index(drop=True, inplace=True)\n",
    "\n",
    "  data = []\n",
    "  for index, row in X.iterrows():\n",
    "    row_input = []\n",
    "    for column in cols:\n",
    "      if column in (row['Platforms_CS']):\n",
    "        row_input.append(1)\n",
    "      else:\n",
    "        row_input.append(0)\n",
    "    data.append(row_input)\n",
    "\n",
    "  X = X.join(pd.DataFrame(data, columns=cols))\n",
    "\n",
    "  return X"
   ]
  },
  {
   "cell_type": "code",
   "execution_count": 265,
   "metadata": {},
   "outputs": [
    {
     "name": "stdout",
     "output_type": "stream",
     "text": [
      "(133, 22)\n"
     ]
    },
    {
     "data": {
      "text/html": [
       "<div>\n",
       "<style scoped>\n",
       "    .dataframe tbody tr th:only-of-type {\n",
       "        vertical-align: middle;\n",
       "    }\n",
       "\n",
       "    .dataframe tbody tr th {\n",
       "        vertical-align: top;\n",
       "    }\n",
       "\n",
       "    .dataframe thead th {\n",
       "        text-align: right;\n",
       "    }\n",
       "</style>\n",
       "<table border=\"1\" class=\"dataframe\">\n",
       "  <thead>\n",
       "    <tr style=\"text-align: right;\">\n",
       "      <th></th>\n",
       "      <th>Timestamp</th>\n",
       "      <th>Username</th>\n",
       "      <th>Background_CS</th>\n",
       "      <th>Confidence_CS</th>\n",
       "      <th>Features_CS</th>\n",
       "      <th>Purchased</th>\n",
       "      <th>Max_Amount</th>\n",
       "      <th>Learning_Style</th>\n",
       "      <th>Visual _Materials</th>\n",
       "      <th>Quiz_Importance</th>\n",
       "      <th>...</th>\n",
       "      <th>leet code</th>\n",
       "      <th>hackerrank</th>\n",
       "      <th>udemy</th>\n",
       "      <th>codesignal</th>\n",
       "      <th>frontend masters</th>\n",
       "      <th>codecademy</th>\n",
       "      <th>google</th>\n",
       "      <th>algo expert</th>\n",
       "      <th>educative</th>\n",
       "      <th>lambda</th>\n",
       "    </tr>\n",
       "  </thead>\n",
       "  <tbody>\n",
       "    <tr>\n",
       "      <th>0</th>\n",
       "      <td>2020/10/07 3:42:39 PM AST</td>\n",
       "      <td>barbaraloismoore@gmail.com</td>\n",
       "      <td>Bootcamp</td>\n",
       "      <td>3</td>\n",
       "      <td>Videos in your CS language;Conceptual visual v...</td>\n",
       "      <td>No</td>\n",
       "      <td>20.0</td>\n",
       "      <td>Visual</td>\n",
       "      <td>Helpful</td>\n",
       "      <td>Yes</td>\n",
       "      <td>...</td>\n",
       "      <td>1</td>\n",
       "      <td>0</td>\n",
       "      <td>0</td>\n",
       "      <td>0</td>\n",
       "      <td>0</td>\n",
       "      <td>0</td>\n",
       "      <td>0</td>\n",
       "      <td>0</td>\n",
       "      <td>0</td>\n",
       "      <td>0</td>\n",
       "    </tr>\n",
       "    <tr>\n",
       "      <th>1</th>\n",
       "      <td>2020/10/07 3:44:56 PM AST</td>\n",
       "      <td>duellrdh@gmail.com</td>\n",
       "      <td>Bootcamp</td>\n",
       "      <td>3</td>\n",
       "      <td>Videos in your CS language;Documented code;Vis...</td>\n",
       "      <td>Yes</td>\n",
       "      <td>35.0</td>\n",
       "      <td>Read &amp; Write</td>\n",
       "      <td>Helpful</td>\n",
       "      <td>Yes</td>\n",
       "      <td>...</td>\n",
       "      <td>1</td>\n",
       "      <td>0</td>\n",
       "      <td>0</td>\n",
       "      <td>1</td>\n",
       "      <td>0</td>\n",
       "      <td>1</td>\n",
       "      <td>0</td>\n",
       "      <td>0</td>\n",
       "      <td>0</td>\n",
       "      <td>0</td>\n",
       "    </tr>\n",
       "    <tr>\n",
       "      <th>2</th>\n",
       "      <td>2020/10/07 3:47:04 PM AST</td>\n",
       "      <td>christine.fletcher0101@gmail.com</td>\n",
       "      <td>Bootcamp</td>\n",
       "      <td>3</td>\n",
       "      <td>Videos in your CS language;Conceptual visual v...</td>\n",
       "      <td>Yes</td>\n",
       "      <td>10.0</td>\n",
       "      <td>Auditory</td>\n",
       "      <td>Helpful</td>\n",
       "      <td>Yes</td>\n",
       "      <td>...</td>\n",
       "      <td>1</td>\n",
       "      <td>0</td>\n",
       "      <td>0</td>\n",
       "      <td>0</td>\n",
       "      <td>0</td>\n",
       "      <td>0</td>\n",
       "      <td>0</td>\n",
       "      <td>0</td>\n",
       "      <td>0</td>\n",
       "      <td>0</td>\n",
       "    </tr>\n",
       "  </tbody>\n",
       "</table>\n",
       "<p>3 rows × 22 columns</p>\n",
       "</div>"
      ],
      "text/plain": [
       "                   Timestamp                          Username Background_CS  \\\n",
       "0  2020/10/07 3:42:39 PM AST        barbaraloismoore@gmail.com      Bootcamp   \n",
       "1  2020/10/07 3:44:56 PM AST                duellrdh@gmail.com      Bootcamp   \n",
       "2  2020/10/07 3:47:04 PM AST  christine.fletcher0101@gmail.com      Bootcamp   \n",
       "\n",
       "   Confidence_CS                                        Features_CS Purchased  \\\n",
       "0              3  Videos in your CS language;Conceptual visual v...        No   \n",
       "1              3  Videos in your CS language;Documented code;Vis...       Yes   \n",
       "2              3  Videos in your CS language;Conceptual visual v...       Yes   \n",
       "\n",
       "   Max_Amount Learning_Style Visual _Materials Quiz_Importance  ... leet code  \\\n",
       "0        20.0         Visual           Helpful             Yes  ...         1   \n",
       "1        35.0   Read & Write           Helpful             Yes  ...         1   \n",
       "2        10.0       Auditory           Helpful             Yes  ...         1   \n",
       "\n",
       "   hackerrank  udemy  codesignal  frontend masters  codecademy  google  \\\n",
       "0           0      0           0                 0           0       0   \n",
       "1           0      0           1                 0           1       0   \n",
       "2           0      0           0                 0           0       0   \n",
       "\n",
       "   algo expert  educative  lambda  \n",
       "0            0          0       0  \n",
       "1            0          0       0  \n",
       "2            0          0       0  \n",
       "\n",
       "[3 rows x 22 columns]"
      ]
     },
     "execution_count": 265,
     "metadata": {},
     "output_type": "execute_result"
    }
   ],
   "source": [
    "data = col(df_new)\n",
    "data = data.drop(['Platforms_CS'], axis=1)\n",
    "print(data.shape)\n",
    "data.head(3)"
   ]
  },
  {
   "cell_type": "code",
   "execution_count": 266,
   "metadata": {},
   "outputs": [],
   "source": [
    "# import seaborn as sns\n",
    "# ax = sns.pairplot(data)"
   ]
  },
  {
   "cell_type": "code",
   "execution_count": 267,
   "metadata": {},
   "outputs": [],
   "source": [
    "# a = df_new[df_new['Max_Amount'].notna()]"
   ]
  },
  {
   "cell_type": "code",
   "execution_count": 268,
   "metadata": {},
   "outputs": [
    {
     "data": {
      "text/plain": [
       "10.0    66\n",
       "20.0    37\n",
       "30.0    11\n",
       "25.0    10\n",
       "35.0     9\n",
       "Name: Max_Amount, dtype: int64"
      ]
     },
     "execution_count": 268,
     "metadata": {},
     "output_type": "execute_result"
    }
   ],
   "source": [
    "data['Max_Amount'].value_counts()"
   ]
  },
  {
   "cell_type": "code",
   "execution_count": 269,
   "metadata": {},
   "outputs": [
    {
     "data": {
      "text/plain": [
       "((106, 22), (27, 22))"
      ]
     },
     "execution_count": 269,
     "metadata": {},
     "output_type": "execute_result"
    }
   ],
   "source": [
    "from sklearn.model_selection import train_test_split\n",
    "\n",
    "# Split train into train & val\n",
    "train, test = train_test_split(data, train_size=0.80, test_size=0.20, random_state=42)\n",
    "\n",
    "train.shape, test.shape"
   ]
  },
  {
   "cell_type": "code",
   "execution_count": 270,
   "metadata": {},
   "outputs": [
    {
     "data": {
      "text/html": [
       "<div>\n",
       "<style scoped>\n",
       "    .dataframe tbody tr th:only-of-type {\n",
       "        vertical-align: middle;\n",
       "    }\n",
       "\n",
       "    .dataframe tbody tr th {\n",
       "        vertical-align: top;\n",
       "    }\n",
       "\n",
       "    .dataframe thead th {\n",
       "        text-align: right;\n",
       "    }\n",
       "</style>\n",
       "<table border=\"1\" class=\"dataframe\">\n",
       "  <thead>\n",
       "    <tr style=\"text-align: right;\">\n",
       "      <th></th>\n",
       "      <th>Timestamp</th>\n",
       "      <th>Username</th>\n",
       "      <th>Background_CS</th>\n",
       "      <th>Confidence_CS</th>\n",
       "      <th>Features_CS</th>\n",
       "      <th>Purchased</th>\n",
       "      <th>Max_Amount</th>\n",
       "      <th>Learning_Style</th>\n",
       "      <th>Visual _Materials</th>\n",
       "      <th>Quiz_Importance</th>\n",
       "      <th>...</th>\n",
       "      <th>leet code</th>\n",
       "      <th>hackerrank</th>\n",
       "      <th>udemy</th>\n",
       "      <th>codesignal</th>\n",
       "      <th>frontend masters</th>\n",
       "      <th>codecademy</th>\n",
       "      <th>google</th>\n",
       "      <th>algo expert</th>\n",
       "      <th>educative</th>\n",
       "      <th>lambda</th>\n",
       "    </tr>\n",
       "  </thead>\n",
       "  <tbody>\n",
       "    <tr>\n",
       "      <th>125</th>\n",
       "      <td>2020/10/16 1:17:06 PM AST</td>\n",
       "      <td>tashingsworth@gmail.com</td>\n",
       "      <td>Bootcamp</td>\n",
       "      <td>2</td>\n",
       "      <td>Videos in your CS language;Conceptual visual v...</td>\n",
       "      <td>Yes</td>\n",
       "      <td>10.0</td>\n",
       "      <td>Kinesthetic</td>\n",
       "      <td>Unsure</td>\n",
       "      <td>Yes</td>\n",
       "      <td>...</td>\n",
       "      <td>0</td>\n",
       "      <td>0</td>\n",
       "      <td>1</td>\n",
       "      <td>0</td>\n",
       "      <td>1</td>\n",
       "      <td>0</td>\n",
       "      <td>0</td>\n",
       "      <td>0</td>\n",
       "      <td>0</td>\n",
       "      <td>0</td>\n",
       "    </tr>\n",
       "    <tr>\n",
       "      <th>109</th>\n",
       "      <td>2020/10/14 11:56:56 AM AST</td>\n",
       "      <td>kimberlyboyd2@gmail.com</td>\n",
       "      <td>Bootcamp</td>\n",
       "      <td>2</td>\n",
       "      <td>Videos in your CS language;Conceptual visual v...</td>\n",
       "      <td>No</td>\n",
       "      <td>20.0</td>\n",
       "      <td>Visual</td>\n",
       "      <td>Helpful</td>\n",
       "      <td>Yes</td>\n",
       "      <td>...</td>\n",
       "      <td>0</td>\n",
       "      <td>0</td>\n",
       "      <td>0</td>\n",
       "      <td>1</td>\n",
       "      <td>0</td>\n",
       "      <td>0</td>\n",
       "      <td>0</td>\n",
       "      <td>0</td>\n",
       "      <td>0</td>\n",
       "      <td>0</td>\n",
       "    </tr>\n",
       "  </tbody>\n",
       "</table>\n",
       "<p>2 rows × 22 columns</p>\n",
       "</div>"
      ],
      "text/plain": [
       "                      Timestamp                 Username Background_CS  \\\n",
       "125   2020/10/16 1:17:06 PM AST  tashingsworth@gmail.com      Bootcamp   \n",
       "109  2020/10/14 11:56:56 AM AST  kimberlyboyd2@gmail.com      Bootcamp   \n",
       "\n",
       "     Confidence_CS                                        Features_CS  \\\n",
       "125              2  Videos in your CS language;Conceptual visual v...   \n",
       "109              2  Videos in your CS language;Conceptual visual v...   \n",
       "\n",
       "    Purchased  Max_Amount Learning_Style Visual _Materials Quiz_Importance  \\\n",
       "125       Yes        10.0    Kinesthetic            Unsure             Yes   \n",
       "109        No        20.0         Visual           Helpful             Yes   \n",
       "\n",
       "     ... leet code  hackerrank  udemy  codesignal  frontend masters  \\\n",
       "125  ...         0           0      1           0                 1   \n",
       "109  ...         0           0      0           1                 0   \n",
       "\n",
       "     codecademy  google  algo expert  educative  lambda  \n",
       "125           0       0            0          0       0  \n",
       "109           0       0            0          0       0  \n",
       "\n",
       "[2 rows x 22 columns]"
      ]
     },
     "execution_count": 270,
     "metadata": {},
     "output_type": "execute_result"
    }
   ],
   "source": [
    "train.head(2)"
   ]
  },
  {
   "cell_type": "code",
   "execution_count": 271,
   "metadata": {},
   "outputs": [],
   "source": [
    "# The status_group column is the target\n",
    "target = 'Max_Amount'\n",
    "\n",
    "# Get a dataframe with all train columns except the target & 'Timestamp', 'Username', 'Features_CS'\n",
    "features = ['Background_CS', 'Confidence_CS', 'Purchased', 'Learning_Style',\n",
    "            'Visual _Materials', 'Quiz_Importance', 'Cooperativness', 'youtube',\n",
    "            'leet code', 'hackerrank', 'udemy', 'codesignal', 'frontend masters',\n",
    "            'codecademy', 'google', 'algo expert', 'educative', 'lambda']\n",
    "# print(features)"
   ]
  },
  {
   "cell_type": "code",
   "execution_count": 272,
   "metadata": {},
   "outputs": [],
   "source": [
    "# train.columns"
   ]
  },
  {
   "cell_type": "code",
   "execution_count": 273,
   "metadata": {},
   "outputs": [],
   "source": [
    "# Arrange data into X features matrix and y target vector \n",
    "X_train = train[features]\n",
    "y_train = train[target]\n",
    "X_test = test[features]\n",
    "y_test = test[target]"
   ]
  },
  {
   "cell_type": "code",
   "execution_count": 274,
   "metadata": {},
   "outputs": [],
   "source": [
    "# pip install category_encoders"
   ]
  },
  {
   "cell_type": "code",
   "execution_count": 276,
   "metadata": {},
   "outputs": [
    {
     "name": "stdout",
     "output_type": "stream",
     "text": [
      "Train Accuracy 0.9905660377358491\n",
      "Test Accuracy 0.3333333333333333\n"
     ]
    }
   ],
   "source": [
    "from sklearn.tree import DecisionTreeClassifier\n",
    "import category_encoders as ce\n",
    "from sklearn.impute import SimpleImputer\n",
    "from sklearn.linear_model import LogisticRegression\n",
    "from sklearn.pipeline import make_pipeline\n",
    "from sklearn.preprocessing import StandardScaler\n",
    "\n",
    "pipeline = make_pipeline(\n",
    "    ce.OneHotEncoder(use_cat_names=True), \n",
    "    SimpleImputer(strategy='mean'), \n",
    "    DecisionTreeClassifier(random_state=42))\n",
    "\n",
    "# Fit on train\n",
    "pipeline.fit(X_train, y_train)\n",
    "\n",
    "# Score on train, test\n",
    "print('Train Accuracy', pipeline.score(X_train, y_train))\n",
    "print('Test Accuracy', pipeline.score(X_test, y_test))"
   ]
  },
  {
   "cell_type": "code",
   "execution_count": 277,
   "metadata": {},
   "outputs": [],
   "source": [
    "# # Predict on test\n",
    "# y_pred = pipeline.predict(X_test)\n",
    "# print(y_pred)"
   ]
  },
  {
   "cell_type": "code",
   "execution_count": null,
   "metadata": {},
   "outputs": [],
   "source": []
  }
 ],
 "metadata": {
  "kernelspec": {
   "display_name": "Python 3.7.6 64-bit ('base': conda)",
   "language": "python",
   "name": "python37664bitbaseconda7886b02c210b4787b5024f578af5cce4"
  },
  "language_info": {
   "codemirror_mode": {
    "name": "ipython",
    "version": 3
   },
   "file_extension": ".py",
   "mimetype": "text/x-python",
   "name": "python",
   "nbconvert_exporter": "python",
   "pygments_lexer": "ipython3",
   "version": "3.7.6"
  }
 },
 "nbformat": 4,
 "nbformat_minor": 4
}
