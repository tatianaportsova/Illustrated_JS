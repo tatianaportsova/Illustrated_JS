{
 "cells": [
  {
   "cell_type": "markdown",
   "metadata": {},
   "source": []
  },
  {
   "cell_type": "code",
   "execution_count": 1,
   "metadata": {},
   "outputs": [],
   "source": [
    "import pandas as pd\n",
    "import numpy as np\n",
    "import re\n",
    "\n",
    "# Ignore the warnings\n",
    "import warnings\n",
    "warnings.simplefilter('ignore')\n",
    "warnings.filterwarnings(action='ignore', category=FutureWarning, module='xgboost')"
   ]
  },
  {
   "cell_type": "markdown",
   "metadata": {},
   "source": [
    "## Upload the Data"
   ]
  },
  {
   "cell_type": "code",
   "execution_count": 2,
   "metadata": {},
   "outputs": [
    {
     "data": {
      "text/html": [
       "<div>\n",
       "<style scoped>\n",
       "    .dataframe tbody tr th:only-of-type {\n",
       "        vertical-align: middle;\n",
       "    }\n",
       "\n",
       "    .dataframe tbody tr th {\n",
       "        vertical-align: top;\n",
       "    }\n",
       "\n",
       "    .dataframe thead th {\n",
       "        text-align: right;\n",
       "    }\n",
       "</style>\n",
       "<table border=\"1\" class=\"dataframe\">\n",
       "  <thead>\n",
       "    <tr style=\"text-align: right;\">\n",
       "      <th></th>\n",
       "      <th>Timestamp</th>\n",
       "      <th>Username</th>\n",
       "      <th>What is your background in Computer Science?</th>\n",
       "      <th>How confident are you with the basics of Computer Science fundamentals?</th>\n",
       "      <th>What platforms do you currently use to study Computer Science?</th>\n",
       "      <th>What features do you look for in a Computer Science course?</th>\n",
       "      <th>Have you ever purchased an online CS course?</th>\n",
       "      <th>How much would you be willing to spend on a premium monthly subscription for a Computer Science course?</th>\n",
       "      <th>What would you say is your learning style?</th>\n",
       "      <th>In the courses you've taken, do you find illustrations, animations, and/or icons distracting or helpful to your understanding of the subject at hand?</th>\n",
       "      <th>When a course offers a quiz at the end of each lesson/course, do you feel this reinforces your understanding of the content?</th>\n",
       "      <th>Would you be comfortable staying in contact with illustratedJS, including being interviewed to help in our User Testing phase?</th>\n",
       "    </tr>\n",
       "  </thead>\n",
       "  <tbody>\n",
       "    <tr>\n",
       "      <th>0</th>\n",
       "      <td>2020/10/07 3:42:39 PM AST</td>\n",
       "      <td>barbaraloismoore@gmail.com</td>\n",
       "      <td>Bootcamp</td>\n",
       "      <td>3</td>\n",
       "      <td>Youtube;Leet Code</td>\n",
       "      <td>Videos in your CS language;Conceptual visual v...</td>\n",
       "      <td>No</td>\n",
       "      <td>Up to $20</td>\n",
       "      <td>Visual</td>\n",
       "      <td>Helpful</td>\n",
       "      <td>Yes</td>\n",
       "      <td>Yes</td>\n",
       "    </tr>\n",
       "    <tr>\n",
       "      <th>1</th>\n",
       "      <td>2020/10/07 3:44:56 PM AST</td>\n",
       "      <td>duellrdh@gmail.com</td>\n",
       "      <td>Bootcamp</td>\n",
       "      <td>3</td>\n",
       "      <td>Youtube;CodeCademy;Leet Code;CodeSignal;Lambda...</td>\n",
       "      <td>Videos in your CS language;Documented code;Vis...</td>\n",
       "      <td>Yes</td>\n",
       "      <td>Up to $35</td>\n",
       "      <td>Read &amp; Write</td>\n",
       "      <td>Helpful</td>\n",
       "      <td>Yes</td>\n",
       "      <td>Yes</td>\n",
       "    </tr>\n",
       "    <tr>\n",
       "      <th>2</th>\n",
       "      <td>2020/10/07 3:47:04 PM AST</td>\n",
       "      <td>christine.fletcher0101@gmail.com</td>\n",
       "      <td>Bootcamp</td>\n",
       "      <td>3</td>\n",
       "      <td>Youtube;Leet Code</td>\n",
       "      <td>Videos in your CS language;Conceptual visual v...</td>\n",
       "      <td>Yes</td>\n",
       "      <td>$0 - $10</td>\n",
       "      <td>Auditory</td>\n",
       "      <td>Helpful</td>\n",
       "      <td>Yes</td>\n",
       "      <td>Yes</td>\n",
       "    </tr>\n",
       "  </tbody>\n",
       "</table>\n",
       "</div>"
      ],
      "text/plain": [
       "                   Timestamp                          Username  \\\n",
       "0  2020/10/07 3:42:39 PM AST        barbaraloismoore@gmail.com   \n",
       "1  2020/10/07 3:44:56 PM AST                duellrdh@gmail.com   \n",
       "2  2020/10/07 3:47:04 PM AST  christine.fletcher0101@gmail.com   \n",
       "\n",
       "  What is your background in Computer Science?  \\\n",
       "0                                     Bootcamp   \n",
       "1                                     Bootcamp   \n",
       "2                                     Bootcamp   \n",
       "\n",
       "   How confident are you with the basics of Computer Science fundamentals?  \\\n",
       "0                                                  3                         \n",
       "1                                                  3                         \n",
       "2                                                  3                         \n",
       "\n",
       "  What platforms do you currently use to study Computer Science?  \\\n",
       "0                                  Youtube;Leet Code               \n",
       "1  Youtube;CodeCademy;Leet Code;CodeSignal;Lambda...               \n",
       "2                                  Youtube;Leet Code               \n",
       "\n",
       "  What features do you look for in a Computer Science course?  \\\n",
       "0  Videos in your CS language;Conceptual visual v...            \n",
       "1  Videos in your CS language;Documented code;Vis...            \n",
       "2  Videos in your CS language;Conceptual visual v...            \n",
       "\n",
       "  Have you ever purchased an online CS course?  \\\n",
       "0                                           No   \n",
       "1                                          Yes   \n",
       "2                                          Yes   \n",
       "\n",
       "  How much would you be willing to spend on a premium monthly subscription for a Computer Science course?  \\\n",
       "0                                          Up to $20                                                        \n",
       "1                                          Up to $35                                                        \n",
       "2                                           $0 - $10                                                        \n",
       "\n",
       "  What would you say is your learning style?  \\\n",
       "0                                     Visual   \n",
       "1                               Read & Write   \n",
       "2                                   Auditory   \n",
       "\n",
       "  In the courses you've taken, do you find illustrations, animations, and/or icons distracting or helpful to your understanding of the subject at hand?  \\\n",
       "0                                            Helpful                                                                                                      \n",
       "1                                            Helpful                                                                                                      \n",
       "2                                            Helpful                                                                                                      \n",
       "\n",
       "  When a course offers a quiz at the end of each lesson/course, do you feel this reinforces your understanding of the content?  \\\n",
       "0                                                Yes                                                                             \n",
       "1                                                Yes                                                                             \n",
       "2                                                Yes                                                                             \n",
       "\n",
       "  Would you be comfortable staying in contact with illustratedJS, including being interviewed to help in our User Testing phase?  \n",
       "0                                                Yes                                                                              \n",
       "1                                                Yes                                                                              \n",
       "2                                                Yes                                                                              "
      ]
     },
     "execution_count": 2,
     "metadata": {},
     "output_type": "execute_result"
    }
   ],
   "source": [
    "df = pd.read_csv(\"computer_science_education_user_survey.csv\")\n",
    "df.head(3)"
   ]
  },
  {
   "cell_type": "markdown",
   "metadata": {},
   "source": [
    "## Wrangle the Data"
   ]
  },
  {
   "cell_type": "markdown",
   "metadata": {},
   "source": [
    "### Let's change the column names to something shorter and easier to read.\n",
    "\n",
    "New column names: Timestamp, Username, Background_CS, Confidence_CS, Platforms_CS, \n",
    "                  Features_CS, Purchased, Max_Amount, Learning_Style, Visual _Materials,\n",
    "                  Quiz_Importance, Cooperativness."
   ]
  },
  {
   "cell_type": "code",
   "execution_count": 3,
   "metadata": {},
   "outputs": [
    {
     "name": "stdout",
     "output_type": "stream",
     "text": [
      "(134, 12)\n"
     ]
    },
    {
     "data": {
      "text/html": [
       "<div>\n",
       "<style scoped>\n",
       "    .dataframe tbody tr th:only-of-type {\n",
       "        vertical-align: middle;\n",
       "    }\n",
       "\n",
       "    .dataframe tbody tr th {\n",
       "        vertical-align: top;\n",
       "    }\n",
       "\n",
       "    .dataframe thead th {\n",
       "        text-align: right;\n",
       "    }\n",
       "</style>\n",
       "<table border=\"1\" class=\"dataframe\">\n",
       "  <thead>\n",
       "    <tr style=\"text-align: right;\">\n",
       "      <th></th>\n",
       "      <th>Timestamp</th>\n",
       "      <th>Username</th>\n",
       "      <th>Background_CS</th>\n",
       "      <th>Confidence_CS</th>\n",
       "      <th>Platforms_CS</th>\n",
       "      <th>Features_CS</th>\n",
       "      <th>Purchased</th>\n",
       "      <th>Max_Amount</th>\n",
       "      <th>Learning_Style</th>\n",
       "      <th>Visual _Materials</th>\n",
       "      <th>Quiz_Importance</th>\n",
       "      <th>Cooperativness</th>\n",
       "    </tr>\n",
       "  </thead>\n",
       "  <tbody>\n",
       "    <tr>\n",
       "      <th>0</th>\n",
       "      <td>2020/10/07 3:42:39 PM AST</td>\n",
       "      <td>barbaraloismoore@gmail.com</td>\n",
       "      <td>Bootcamp</td>\n",
       "      <td>3</td>\n",
       "      <td>Youtube;Leet Code</td>\n",
       "      <td>Videos in your CS language;Conceptual visual v...</td>\n",
       "      <td>No</td>\n",
       "      <td>Up to $20</td>\n",
       "      <td>Visual</td>\n",
       "      <td>Helpful</td>\n",
       "      <td>Yes</td>\n",
       "      <td>Yes</td>\n",
       "    </tr>\n",
       "    <tr>\n",
       "      <th>1</th>\n",
       "      <td>2020/10/07 3:44:56 PM AST</td>\n",
       "      <td>duellrdh@gmail.com</td>\n",
       "      <td>Bootcamp</td>\n",
       "      <td>3</td>\n",
       "      <td>Youtube;CodeCademy;Leet Code;CodeSignal;Lambda...</td>\n",
       "      <td>Videos in your CS language;Documented code;Vis...</td>\n",
       "      <td>Yes</td>\n",
       "      <td>Up to $35</td>\n",
       "      <td>Read &amp; Write</td>\n",
       "      <td>Helpful</td>\n",
       "      <td>Yes</td>\n",
       "      <td>Yes</td>\n",
       "    </tr>\n",
       "    <tr>\n",
       "      <th>2</th>\n",
       "      <td>2020/10/07 3:47:04 PM AST</td>\n",
       "      <td>christine.fletcher0101@gmail.com</td>\n",
       "      <td>Bootcamp</td>\n",
       "      <td>3</td>\n",
       "      <td>Youtube;Leet Code</td>\n",
       "      <td>Videos in your CS language;Conceptual visual v...</td>\n",
       "      <td>Yes</td>\n",
       "      <td>$0 - $10</td>\n",
       "      <td>Auditory</td>\n",
       "      <td>Helpful</td>\n",
       "      <td>Yes</td>\n",
       "      <td>Yes</td>\n",
       "    </tr>\n",
       "  </tbody>\n",
       "</table>\n",
       "</div>"
      ],
      "text/plain": [
       "                   Timestamp                          Username Background_CS  \\\n",
       "0  2020/10/07 3:42:39 PM AST        barbaraloismoore@gmail.com      Bootcamp   \n",
       "1  2020/10/07 3:44:56 PM AST                duellrdh@gmail.com      Bootcamp   \n",
       "2  2020/10/07 3:47:04 PM AST  christine.fletcher0101@gmail.com      Bootcamp   \n",
       "\n",
       "   Confidence_CS                                       Platforms_CS  \\\n",
       "0              3                                  Youtube;Leet Code   \n",
       "1              3  Youtube;CodeCademy;Leet Code;CodeSignal;Lambda...   \n",
       "2              3                                  Youtube;Leet Code   \n",
       "\n",
       "                                         Features_CS Purchased Max_Amount  \\\n",
       "0  Videos in your CS language;Conceptual visual v...        No  Up to $20   \n",
       "1  Videos in your CS language;Documented code;Vis...       Yes  Up to $35   \n",
       "2  Videos in your CS language;Conceptual visual v...       Yes   $0 - $10   \n",
       "\n",
       "  Learning_Style Visual _Materials Quiz_Importance Cooperativness  \n",
       "0         Visual           Helpful             Yes            Yes  \n",
       "1   Read & Write           Helpful             Yes            Yes  \n",
       "2       Auditory           Helpful             Yes            Yes  "
      ]
     },
     "execution_count": 3,
     "metadata": {},
     "output_type": "execute_result"
    }
   ],
   "source": [
    "df_new = df.rename(columns = {'What is your background in Computer Science?':'Background_CS',\n",
    "                              'How confident are you with the basics of Computer Science fundamentals?':'Confidence_CS',\n",
    "                              'What platforms do you currently use to study Computer Science?':'Platforms_CS',\n",
    "                              'What features do you look for in a Computer Science course?':'Features_CS',\n",
    "                              'Have you ever purchased an online CS course?':'Purchased',\n",
    "                              'How much would you be willing to spend on a premium monthly subscription for a Computer Science course?':'Max_Amount',\n",
    "                              'What would you say is your learning style?':'Learning_Style',\n",
    "                              \"In the courses you've taken, do you find illustrations, animations, and/or icons distracting or helpful to your understanding of the subject at hand?\":'Visual _Materials',\n",
    "                              'When a course offers a quiz at the end of each lesson/course, do you feel this reinforces your understanding of the content?':'Quiz_Importance',\n",
    "                              'Would you be comfortable staying in contact with illustratedJS, including being interviewed to help in our User Testing phase?':'Cooperativness'})\n",
    "\n",
    "print(df_new.shape)\n",
    "df_new.head(3)\n"
   ]
  },
  {
   "cell_type": "code",
   "execution_count": 4,
   "metadata": {},
   "outputs": [
    {
     "data": {
      "text/plain": [
       "Visual          50\n",
       "Kinesthetic     46\n",
       "Read & Write    31\n",
       "Auditory         7\n",
       "Name: Learning_Style, dtype: int64"
      ]
     },
     "execution_count": 4,
     "metadata": {},
     "output_type": "execute_result"
    }
   ],
   "source": [
    "df_new['Learning_Style'].value_counts()"
   ]
  },
  {
   "cell_type": "code",
   "execution_count": 5,
   "metadata": {},
   "outputs": [
    {
     "data": {
      "text/plain": [
       "Timestamp            0\n",
       "Username             0\n",
       "Background_CS        0\n",
       "Confidence_CS        0\n",
       "Platforms_CS         0\n",
       "Features_CS          0\n",
       "Purchased            0\n",
       "Max_Amount           1\n",
       "Learning_Style       0\n",
       "Visual _Materials    1\n",
       "Quiz_Importance      2\n",
       "Cooperativness       1\n",
       "dtype: int64"
      ]
     },
     "execution_count": 5,
     "metadata": {},
     "output_type": "execute_result"
    }
   ],
   "source": [
    "df_new.isnull().sum()"
   ]
  },
  {
   "cell_type": "code",
   "execution_count": 6,
   "metadata": {},
   "outputs": [
    {
     "data": {
      "text/plain": [
       "Timestamp            object\n",
       "Username             object\n",
       "Background_CS        object\n",
       "Confidence_CS         int64\n",
       "Platforms_CS         object\n",
       "Features_CS          object\n",
       "Purchased            object\n",
       "Max_Amount           object\n",
       "Learning_Style       object\n",
       "Visual _Materials    object\n",
       "Quiz_Importance      object\n",
       "Cooperativness       object\n",
       "dtype: object"
      ]
     },
     "execution_count": 6,
     "metadata": {},
     "output_type": "execute_result"
    }
   ],
   "source": [
    "df_new.dtypes"
   ]
  },
  {
   "cell_type": "code",
   "execution_count": 7,
   "metadata": {},
   "outputs": [],
   "source": [
    "# A function to get the int/float value from the data entry\n",
    "def get_int(cell_contents):\n",
    "    try:\n",
    "        return int(re.sub('\\D', '', cell_contents))\n",
    "    except:\n",
    "        pass\n",
    "\n",
    "# A function to get separate items from the data entry\n",
    "def split_str(cell_contents):\n",
    "    try:\n",
    "        return cell_contents.lower().replace(', ', ';').split(';')\n",
    "    except:\n",
    "        pass\n",
    "    \n",
    "# Apply get_int & split_str functions to selected columns\n",
    "df_new['Max_Amount'] = df_new['Max_Amount'].apply(get_int)\n",
    "df_new['Platforms_CS'] = df_new['Platforms_CS'].apply(split_str)"
   ]
  },
  {
   "cell_type": "code",
   "execution_count": 10,
   "metadata": {},
   "outputs": [],
   "source": [
    "# Count how many times each of the platforms/ways to stady CS comes up in Platforms_CS column.\n",
    "cache = {}\n",
    "for entry in df_new['Platforms_CS']:\n",
    "    for i in entry:\n",
    "        if i in cache:\n",
    "            cache[i] += 1\n",
    "        else:\n",
    "            cache[i] = 1\n",
    "\n",
    "# Some of the entrie were mistyped, this for loop makes sure they'll counted properly\n",
    "for i in list(cache):\n",
    "    if 'google' in i and i != 'google':\n",
    "        cache['google'] += cache[i]\n",
    "        del cache[i]\n",
    "    elif 'lambda' in i and i != 'lambda':\n",
    "        cache['google'] += cache[i]\n",
    "        del cache[i]\n",
    "\n",
    "# A function to create new columns using the information we got from Platforms_CS column\n",
    "def col(dataset):\n",
    "  X = dataset.copy()\n",
    "  X = X[X['Max_Amount'].notna()]\n",
    "  X.reset_index(drop=True, inplace=True)\n",
    "  data = []\n",
    "  for index, row in X.iterrows():\n",
    "    row_input = []\n",
    "    for column in cols:\n",
    "      if column in (row['Platforms_CS']):\n",
    "        row_input.append(1)\n",
    "      else:\n",
    "        row_input.append(0)\n",
    "    for i in (row['Platforms_CS']):\n",
    "        if i not in cols:\n",
    "            row_input[-1] += 1\n",
    "    data.append(row_input)\n",
    "  X = X.join(pd.DataFrame(data, columns=cols))\n",
    "  return X\n",
    "\n",
    "\n",
    "# Create a list of 10 most popular platforms\n",
    "cols = list({k: v for k, v in sorted(cache.items(), key=lambda item: item[1], reverse=True)})[:10]\n",
    "# Add Lambda to the list, bc.. you know, we study there\n",
    "cols.append('lambda')\n",
    "# Create \"Other\" option for the rest\n",
    "cols.append('other')\n",
    "\n",
    "data = col(df_new)\n",
    "data = data.drop(['Platforms_CS'], axis=1)"
   ]
  },
  {
   "cell_type": "code",
   "execution_count": 12,
   "metadata": {},
   "outputs": [
    {
     "name": "stdout",
     "output_type": "stream",
     "text": [
      "(133, 23)\n"
     ]
    },
    {
     "data": {
      "text/html": [
       "<div>\n",
       "<style scoped>\n",
       "    .dataframe tbody tr th:only-of-type {\n",
       "        vertical-align: middle;\n",
       "    }\n",
       "\n",
       "    .dataframe tbody tr th {\n",
       "        vertical-align: top;\n",
       "    }\n",
       "\n",
       "    .dataframe thead th {\n",
       "        text-align: right;\n",
       "    }\n",
       "</style>\n",
       "<table border=\"1\" class=\"dataframe\">\n",
       "  <thead>\n",
       "    <tr style=\"text-align: right;\">\n",
       "      <th></th>\n",
       "      <th>Timestamp</th>\n",
       "      <th>Username</th>\n",
       "      <th>Background_CS</th>\n",
       "      <th>Confidence_CS</th>\n",
       "      <th>Features_CS</th>\n",
       "      <th>Purchased</th>\n",
       "      <th>Max_Amount</th>\n",
       "      <th>Learning_Style</th>\n",
       "      <th>Visual _Materials</th>\n",
       "      <th>Quiz_Importance</th>\n",
       "      <th>...</th>\n",
       "      <th>hackerrank</th>\n",
       "      <th>udemy</th>\n",
       "      <th>codesignal</th>\n",
       "      <th>frontend masters</th>\n",
       "      <th>codecademy</th>\n",
       "      <th>google</th>\n",
       "      <th>algo expert</th>\n",
       "      <th>educative</th>\n",
       "      <th>lambda</th>\n",
       "      <th>other</th>\n",
       "    </tr>\n",
       "  </thead>\n",
       "  <tbody>\n",
       "    <tr>\n",
       "      <th>0</th>\n",
       "      <td>2020/10/07 3:42:39 PM AST</td>\n",
       "      <td>barbaraloismoore@gmail.com</td>\n",
       "      <td>Bootcamp</td>\n",
       "      <td>3</td>\n",
       "      <td>Videos in your CS language;Conceptual visual v...</td>\n",
       "      <td>No</td>\n",
       "      <td>20.0</td>\n",
       "      <td>Visual</td>\n",
       "      <td>Helpful</td>\n",
       "      <td>Yes</td>\n",
       "      <td>...</td>\n",
       "      <td>0</td>\n",
       "      <td>0</td>\n",
       "      <td>0</td>\n",
       "      <td>0</td>\n",
       "      <td>0</td>\n",
       "      <td>0</td>\n",
       "      <td>0</td>\n",
       "      <td>0</td>\n",
       "      <td>0</td>\n",
       "      <td>0</td>\n",
       "    </tr>\n",
       "    <tr>\n",
       "      <th>1</th>\n",
       "      <td>2020/10/07 3:44:56 PM AST</td>\n",
       "      <td>duellrdh@gmail.com</td>\n",
       "      <td>Bootcamp</td>\n",
       "      <td>3</td>\n",
       "      <td>Videos in your CS language;Documented code;Vis...</td>\n",
       "      <td>Yes</td>\n",
       "      <td>35.0</td>\n",
       "      <td>Read &amp; Write</td>\n",
       "      <td>Helpful</td>\n",
       "      <td>Yes</td>\n",
       "      <td>...</td>\n",
       "      <td>0</td>\n",
       "      <td>0</td>\n",
       "      <td>1</td>\n",
       "      <td>0</td>\n",
       "      <td>1</td>\n",
       "      <td>0</td>\n",
       "      <td>0</td>\n",
       "      <td>0</td>\n",
       "      <td>0</td>\n",
       "      <td>1</td>\n",
       "    </tr>\n",
       "    <tr>\n",
       "      <th>2</th>\n",
       "      <td>2020/10/07 3:47:04 PM AST</td>\n",
       "      <td>christine.fletcher0101@gmail.com</td>\n",
       "      <td>Bootcamp</td>\n",
       "      <td>3</td>\n",
       "      <td>Videos in your CS language;Conceptual visual v...</td>\n",
       "      <td>Yes</td>\n",
       "      <td>10.0</td>\n",
       "      <td>Auditory</td>\n",
       "      <td>Helpful</td>\n",
       "      <td>Yes</td>\n",
       "      <td>...</td>\n",
       "      <td>0</td>\n",
       "      <td>0</td>\n",
       "      <td>0</td>\n",
       "      <td>0</td>\n",
       "      <td>0</td>\n",
       "      <td>0</td>\n",
       "      <td>0</td>\n",
       "      <td>0</td>\n",
       "      <td>0</td>\n",
       "      <td>0</td>\n",
       "    </tr>\n",
       "  </tbody>\n",
       "</table>\n",
       "<p>3 rows × 23 columns</p>\n",
       "</div>"
      ],
      "text/plain": [
       "                   Timestamp                          Username Background_CS  \\\n",
       "0  2020/10/07 3:42:39 PM AST        barbaraloismoore@gmail.com      Bootcamp   \n",
       "1  2020/10/07 3:44:56 PM AST                duellrdh@gmail.com      Bootcamp   \n",
       "2  2020/10/07 3:47:04 PM AST  christine.fletcher0101@gmail.com      Bootcamp   \n",
       "\n",
       "   Confidence_CS                                        Features_CS Purchased  \\\n",
       "0              3  Videos in your CS language;Conceptual visual v...        No   \n",
       "1              3  Videos in your CS language;Documented code;Vis...       Yes   \n",
       "2              3  Videos in your CS language;Conceptual visual v...       Yes   \n",
       "\n",
       "   Max_Amount Learning_Style Visual _Materials Quiz_Importance  ...  \\\n",
       "0        20.0         Visual           Helpful             Yes  ...   \n",
       "1        35.0   Read & Write           Helpful             Yes  ...   \n",
       "2        10.0       Auditory           Helpful             Yes  ...   \n",
       "\n",
       "  hackerrank  udemy  codesignal  frontend masters  codecademy  google  \\\n",
       "0          0      0           0                 0           0       0   \n",
       "1          0      0           1                 0           1       0   \n",
       "2          0      0           0                 0           0       0   \n",
       "\n",
       "   algo expert  educative  lambda  other  \n",
       "0            0          0       0      0  \n",
       "1            0          0       0      1  \n",
       "2            0          0       0      0  \n",
       "\n",
       "[3 rows x 23 columns]"
      ]
     },
     "execution_count": 12,
     "metadata": {},
     "output_type": "execute_result"
    }
   ],
   "source": [
    "print(data.shape)\n",
    "data.head(3)"
   ]
  },
  {
   "cell_type": "code",
   "execution_count": 44,
   "metadata": {},
   "outputs": [
    {
     "data": {
      "text/plain": [
       "10.0    66\n",
       "20.0    37\n",
       "30.0    11\n",
       "25.0    10\n",
       "35.0     9\n",
       "Name: Max_Amount, dtype: int64"
      ]
     },
     "execution_count": 44,
     "metadata": {},
     "output_type": "execute_result"
    }
   ],
   "source": [
    "df_new['Max_Amount'].value_counts()"
   ]
  },
  {
   "cell_type": "markdown",
   "metadata": {},
   "source": [
    "## Explore Data through Visualisations"
   ]
  },
  {
   "cell_type": "code",
   "execution_count": 13,
   "metadata": {},
   "outputs": [
    {
     "data": {
      "image/png": "[encoded data removed]",
      "text/plain": [
       "<Figure size 432x288 with 1 Axes>"
      ]
     },
     "metadata": {
      "needs_background": "light"
     },
     "output_type": "display_data"
    }
   ],
   "source": [
    "pd.crosstab(df_new['Confidence_CS'],df_new['Learning_Style']).plot();"
   ]
  },
  {
   "cell_type": "code",
   "execution_count": 14,
   "metadata": {},
   "outputs": [
    {
     "data": {
      "image/png": "[encoded data removed]",
      "text/plain": [
       "<Figure size 432x288 with 1 Axes>"
      ]
     },
     "metadata": {
      "needs_background": "light"
     },
     "output_type": "display_data"
    }
   ],
   "source": [
    "pd.crosstab(df_new['Confidence_CS'],df_new['Max_Amount']).plot();"
   ]
  },
  {
   "cell_type": "code",
   "execution_count": 15,
   "metadata": {},
   "outputs": [
    {
     "data": {
      "image/png": "[encoded data removed]",
      "text/plain": [
       "<Figure size 432x288 with 1 Axes>"
      ]
     },
     "metadata": {
      "needs_background": "light"
     },
     "output_type": "display_data"
    }
   ],
   "source": [
    "pd.crosstab(df_new['Confidence_CS'],df_new['Purchased']).plot();"
   ]
  },
  {
   "cell_type": "markdown",
   "metadata": {},
   "source": [
    "## Apply Machine Learning Algo"
   ]
  },
  {
   "cell_type": "code",
   "execution_count": 16,
   "metadata": {},
   "outputs": [],
   "source": [
    "# pip install category_encoders\n",
    "from sklearn.model_selection import train_test_split\n",
    "from sklearn.tree import DecisionTreeClassifier\n",
    "import category_encoders as ce\n",
    "from sklearn.impute import SimpleImputer\n",
    "from sklearn.linear_model import LogisticRegression\n",
    "from sklearn.pipeline import make_pipeline\n",
    "from sklearn.preprocessing import StandardScaler"
   ]
  },
  {
   "cell_type": "code",
   "execution_count": 19,
   "metadata": {},
   "outputs": [
    {
     "data": {
      "text/plain": [
       "((84, 23), (22, 23), (27, 23))"
      ]
     },
     "execution_count": 19,
     "metadata": {},
     "output_type": "execute_result"
    }
   ],
   "source": [
    "# Split train into train & val\n",
    "train_data, test = train_test_split(data, train_size=0.80, test_size=0.20, random_state=42)\n",
    "train, val = train_test_split(train_data, train_size=0.80, test_size=0.20, random_state=42)\n",
    "\n",
    "train.shape, val.shape, test.shape"
   ]
  },
  {
   "cell_type": "code",
   "execution_count": 20,
   "metadata": {},
   "outputs": [],
   "source": [
    "# The Max_Amount column is the target\n",
    "target = 'Max_Amount'\n",
    "\n",
    "# Get a dataframe with all train columns except the target & 'Timestamp', 'Username', 'Features_CS'\n",
    "features = ['Background_CS', 'Confidence_CS', 'Purchased', 'Learning_Style',\n",
    "            'Visual _Materials', 'Quiz_Importance', 'Cooperativness', 'youtube',\n",
    "            'leet code', 'hackerrank', 'udemy', 'codesignal', 'frontend masters',\n",
    "            'codecademy', 'google', 'algo expert', 'educative', 'lambda']"
   ]
  },
  {
   "cell_type": "code",
   "execution_count": 21,
   "metadata": {},
   "outputs": [],
   "source": [
    "# Arrange data into X features matrix and y target vector \n",
    "X_train = train[features]\n",
    "y_train = train[target]\n",
    "X_val = val[features]\n",
    "y_val = val[target]\n",
    "X_test = test[features]\n",
    "y_test = test[target]"
   ]
  },
  {
   "cell_type": "code",
   "execution_count": 22,
   "metadata": {},
   "outputs": [
    {
     "name": "stdout",
     "output_type": "stream",
     "text": [
      "Train Accuracy 0.9880952380952381\n",
      "Validation Accuracy 0.36363636363636365\n"
     ]
    }
   ],
   "source": [
    "pipeline = make_pipeline(\n",
    "    ce.OneHotEncoder(use_cat_names=True), \n",
    "    SimpleImputer(strategy='mean'), \n",
    "    DecisionTreeClassifier(random_state=42))\n",
    "\n",
    "# Fit on train\n",
    "pipeline.fit(X_train, y_train)\n",
    "\n",
    "# Score on train, test\n",
    "print('Train Accuracy', pipeline.score(X_train, y_train))\n",
    "print('Validation Accuracy', pipeline.score(X_val, y_val))"
   ]
  },
  {
   "cell_type": "code",
   "execution_count": 42,
   "metadata": {},
   "outputs": [],
   "source": [
    "# Predict on test\n",
    "y_pred = pipeline.predict(X_test)\n",
    "y_test = y_test.to_numpy()"
   ]
  },
  {
   "cell_type": "code",
   "execution_count": 43,
   "metadata": {},
   "outputs": [
    {
     "name": "stdout",
     "output_type": "stream",
     "text": [
      "Test Accuracy:  37.04\n"
     ]
    }
   ],
   "source": [
    "def accuracy(true_labels, predicted_labels):\n",
    "    correct = 0\n",
    "    for i in range(0, len(true_labels)):\n",
    "        if true_labels[i] == predicted_labels[i]:\n",
    "            correct += 1\n",
    "    accuracy = correct/len(true_labels) * 100  #accuracy \n",
    "    return '%.2f' % accuracy\n",
    "    \n",
    "print(\"Test Accuracy: \", accuracy(y, y_pred))"
   ]
  },
  {
   "cell_type": "markdown",
   "metadata": {},
   "source": [
    "## Confusion Matrix"
   ]
  },
  {
   "cell_type": "code",
   "execution_count": 26,
   "metadata": {},
   "outputs": [
    {
     "data": {
      "image/png": "[encoded data removed]",
      "text/plain": [
       "<Figure size 432x288 with 2 Axes>"
      ]
     },
     "metadata": {
      "needs_background": "light"
     },
     "output_type": "display_data"
    }
   ],
   "source": [
    "from sklearn.metrics import plot_confusion_matrix\n",
    "plot_confusion_matrix(pipeline, X_val, y_val, values_format='.0f', xticks_rotation='vertical');"
   ]
  },
  {
   "cell_type": "code",
   "execution_count": null,
   "metadata": {},
   "outputs": [],
   "source": []
  }
 ],
 "metadata": {
  "kernelspec": {
   "display_name": "Python 3.7.6 64-bit ('base': conda)",
   "language": "python",
   "name": "python37664bitbaseconda7886b02c210b4787b5024f578af5cce4"
  },
  "language_info": {
   "codemirror_mode": {
    "name": "ipython",
    "version": 3
   },
   "file_extension": ".py",
   "mimetype": "text/x-python",
   "name": "python",
   "nbconvert_exporter": "python",
   "pygments_lexer": "ipython3",
   "version": "3.7.6"
  }
 },
 "nbformat": 4,
 "nbformat_minor": 4
}
