{
 "cells": [
  {
   "cell_type": "code",
   "execution_count": 1,
   "metadata": {},
   "outputs": [],
   "source": [
    "import pandas as pd\n",
    "import numpy as np\n",
    "import re"
   ]
  },
  {
   "cell_type": "code",
   "execution_count": 2,
   "metadata": {},
   "outputs": [
    {
     "data": {
      "text/html": [
       "<div>\n",
       "<style scoped>\n",
       "    .dataframe tbody tr th:only-of-type {\n",
       "        vertical-align: middle;\n",
       "    }\n",
       "\n",
       "    .dataframe tbody tr th {\n",
       "        vertical-align: top;\n",
       "    }\n",
       "\n",
       "    .dataframe thead th {\n",
       "        text-align: right;\n",
       "    }\n",
       "</style>\n",
       "<table border=\"1\" class=\"dataframe\">\n",
       "  <thead>\n",
       "    <tr style=\"text-align: right;\">\n",
       "      <th></th>\n",
       "      <th>Timestamp</th>\n",
       "      <th>Username</th>\n",
       "      <th>What is your background in Computer Science?</th>\n",
       "      <th>How confident are you with the basics of Computer Science fundamentals?</th>\n",
       "      <th>What platforms do you currently use to study Computer Science?</th>\n",
       "      <th>What features do you look for in a Computer Science course?</th>\n",
       "      <th>Have you ever purchased an online CS course?</th>\n",
       "      <th>How much would you be willing to spend on a premium monthly subscription for a Computer Science course?</th>\n",
       "      <th>What would you say is your learning style?</th>\n",
       "      <th>In the courses you've taken, do you find illustrations, animations, and/or icons distracting or helpful to your understanding of the subject at hand?</th>\n",
       "      <th>When a course offers a quiz at the end of each lesson/course, do you feel this reinforces your understanding of the content?</th>\n",
       "      <th>Would you be comfortable staying in contact with illustratedJS, including being interviewed to help in our User Testing phase?</th>\n",
       "    </tr>\n",
       "  </thead>\n",
       "  <tbody>\n",
       "    <tr>\n",
       "      <th>0</th>\n",
       "      <td>2020/10/07 3:42:39 PM AST</td>\n",
       "      <td>barbaraloismoore@gmail.com</td>\n",
       "      <td>Bootcamp</td>\n",
       "      <td>3</td>\n",
       "      <td>Youtube;Leet Code</td>\n",
       "      <td>Videos in your CS language;Conceptual visual v...</td>\n",
       "      <td>No</td>\n",
       "      <td>Up to $20</td>\n",
       "      <td>Visual</td>\n",
       "      <td>Helpful</td>\n",
       "      <td>Yes</td>\n",
       "      <td>Yes</td>\n",
       "    </tr>\n",
       "    <tr>\n",
       "      <th>1</th>\n",
       "      <td>2020/10/07 3:44:56 PM AST</td>\n",
       "      <td>duellrdh@gmail.com</td>\n",
       "      <td>Bootcamp</td>\n",
       "      <td>3</td>\n",
       "      <td>Youtube;CodeCademy;Leet Code;CodeSignal;Lambda...</td>\n",
       "      <td>Videos in your CS language;Documented code;Vis...</td>\n",
       "      <td>Yes</td>\n",
       "      <td>Up to $35</td>\n",
       "      <td>Read &amp; Write</td>\n",
       "      <td>Helpful</td>\n",
       "      <td>Yes</td>\n",
       "      <td>Yes</td>\n",
       "    </tr>\n",
       "  </tbody>\n",
       "</table>\n",
       "</div>"
      ],
      "text/plain": [
       "                   Timestamp                    Username  \\\n",
       "0  2020/10/07 3:42:39 PM AST  barbaraloismoore@gmail.com   \n",
       "1  2020/10/07 3:44:56 PM AST          duellrdh@gmail.com   \n",
       "\n",
       "  What is your background in Computer Science?  \\\n",
       "0                                     Bootcamp   \n",
       "1                                     Bootcamp   \n",
       "\n",
       "   How confident are you with the basics of Computer Science fundamentals?  \\\n",
       "0                                                  3                         \n",
       "1                                                  3                         \n",
       "\n",
       "  What platforms do you currently use to study Computer Science?  \\\n",
       "0                                  Youtube;Leet Code               \n",
       "1  Youtube;CodeCademy;Leet Code;CodeSignal;Lambda...               \n",
       "\n",
       "  What features do you look for in a Computer Science course?  \\\n",
       "0  Videos in your CS language;Conceptual visual v...            \n",
       "1  Videos in your CS language;Documented code;Vis...            \n",
       "\n",
       "  Have you ever purchased an online CS course?  \\\n",
       "0                                           No   \n",
       "1                                          Yes   \n",
       "\n",
       "  How much would you be willing to spend on a premium monthly subscription for a Computer Science course?  \\\n",
       "0                                          Up to $20                                                        \n",
       "1                                          Up to $35                                                        \n",
       "\n",
       "  What would you say is your learning style?  \\\n",
       "0                                     Visual   \n",
       "1                               Read & Write   \n",
       "\n",
       "  In the courses you've taken, do you find illustrations, animations, and/or icons distracting or helpful to your understanding of the subject at hand?  \\\n",
       "0                                            Helpful                                                                                                      \n",
       "1                                            Helpful                                                                                                      \n",
       "\n",
       "  When a course offers a quiz at the end of each lesson/course, do you feel this reinforces your understanding of the content?  \\\n",
       "0                                                Yes                                                                             \n",
       "1                                                Yes                                                                             \n",
       "\n",
       "  Would you be comfortable staying in contact with illustratedJS, including being interviewed to help in our User Testing phase?  \n",
       "0                                                Yes                                                                              \n",
       "1                                                Yes                                                                              "
      ]
     },
     "execution_count": 2,
     "metadata": {},
     "output_type": "execute_result"
    }
   ],
   "source": [
    "df = pd.read_csv(\"computer_science_education_user_survey.csv\")\n",
    "df.head(2)"
   ]
  },
  {
   "cell_type": "code",
   "execution_count": 29,
   "metadata": {},
   "outputs": [
    {
     "name": "stdout",
     "output_type": "stream",
     "text": [
      "(134, 12)\n"
     ]
    },
    {
     "data": {
      "text/html": [
       "<div>\n",
       "<style scoped>\n",
       "    .dataframe tbody tr th:only-of-type {\n",
       "        vertical-align: middle;\n",
       "    }\n",
       "\n",
       "    .dataframe tbody tr th {\n",
       "        vertical-align: top;\n",
       "    }\n",
       "\n",
       "    .dataframe thead th {\n",
       "        text-align: right;\n",
       "    }\n",
       "</style>\n",
       "<table border=\"1\" class=\"dataframe\">\n",
       "  <thead>\n",
       "    <tr style=\"text-align: right;\">\n",
       "      <th></th>\n",
       "      <th>Timestamp</th>\n",
       "      <th>Username</th>\n",
       "      <th>Background_CS</th>\n",
       "      <th>Confidence_CS</th>\n",
       "      <th>Platforms_CS</th>\n",
       "      <th>Features_CS</th>\n",
       "      <th>Purchased</th>\n",
       "      <th>Max_Amount</th>\n",
       "      <th>Learning_Style</th>\n",
       "      <th>Visual _Materials</th>\n",
       "      <th>Quiz_Importance</th>\n",
       "      <th>Cooperativness</th>\n",
       "    </tr>\n",
       "  </thead>\n",
       "  <tbody>\n",
       "    <tr>\n",
       "      <th>0</th>\n",
       "      <td>2020/10/07 3:42:39 PM AST</td>\n",
       "      <td>barbaraloismoore@gmail.com</td>\n",
       "      <td>Bootcamp</td>\n",
       "      <td>3</td>\n",
       "      <td>Youtube;Leet Code</td>\n",
       "      <td>Videos in your CS language;Conceptual visual v...</td>\n",
       "      <td>No</td>\n",
       "      <td>Up to $20</td>\n",
       "      <td>Visual</td>\n",
       "      <td>Helpful</td>\n",
       "      <td>Yes</td>\n",
       "      <td>Yes</td>\n",
       "    </tr>\n",
       "    <tr>\n",
       "      <th>1</th>\n",
       "      <td>2020/10/07 3:44:56 PM AST</td>\n",
       "      <td>duellrdh@gmail.com</td>\n",
       "      <td>Bootcamp</td>\n",
       "      <td>3</td>\n",
       "      <td>Youtube;CodeCademy;Leet Code;CodeSignal;Lambda...</td>\n",
       "      <td>Videos in your CS language;Documented code;Vis...</td>\n",
       "      <td>Yes</td>\n",
       "      <td>Up to $35</td>\n",
       "      <td>Read &amp; Write</td>\n",
       "      <td>Helpful</td>\n",
       "      <td>Yes</td>\n",
       "      <td>Yes</td>\n",
       "    </tr>\n",
       "    <tr>\n",
       "      <th>2</th>\n",
       "      <td>2020/10/07 3:47:04 PM AST</td>\n",
       "      <td>christine.fletcher0101@gmail.com</td>\n",
       "      <td>Bootcamp</td>\n",
       "      <td>3</td>\n",
       "      <td>Youtube;Leet Code</td>\n",
       "      <td>Videos in your CS language;Conceptual visual v...</td>\n",
       "      <td>Yes</td>\n",
       "      <td>$0 - $10</td>\n",
       "      <td>Auditory</td>\n",
       "      <td>Helpful</td>\n",
       "      <td>Yes</td>\n",
       "      <td>Yes</td>\n",
       "    </tr>\n",
       "  </tbody>\n",
       "</table>\n",
       "</div>"
      ],
      "text/plain": [
       "                   Timestamp                          Username Background_CS  \\\n",
       "0  2020/10/07 3:42:39 PM AST        barbaraloismoore@gmail.com      Bootcamp   \n",
       "1  2020/10/07 3:44:56 PM AST                duellrdh@gmail.com      Bootcamp   \n",
       "2  2020/10/07 3:47:04 PM AST  christine.fletcher0101@gmail.com      Bootcamp   \n",
       "\n",
       "   Confidence_CS                                       Platforms_CS  \\\n",
       "0              3                                  Youtube;Leet Code   \n",
       "1              3  Youtube;CodeCademy;Leet Code;CodeSignal;Lambda...   \n",
       "2              3                                  Youtube;Leet Code   \n",
       "\n",
       "                                         Features_CS Purchased Max_Amount  \\\n",
       "0  Videos in your CS language;Conceptual visual v...        No  Up to $20   \n",
       "1  Videos in your CS language;Documented code;Vis...       Yes  Up to $35   \n",
       "2  Videos in your CS language;Conceptual visual v...       Yes   $0 - $10   \n",
       "\n",
       "  Learning_Style Visual _Materials Quiz_Importance Cooperativness  \n",
       "0         Visual           Helpful             Yes            Yes  \n",
       "1   Read & Write           Helpful             Yes            Yes  \n",
       "2       Auditory           Helpful             Yes            Yes  "
      ]
     },
     "execution_count": 29,
     "metadata": {},
     "output_type": "execute_result"
    }
   ],
   "source": [
    "# New column names:'Timestamp', 'Username', \n",
    "#                  'Background_CS', 'Confidence_CS',\n",
    "#                  'Platforms_CS', 'Features_CS', \n",
    "#                  'Purchased', 'Max_Amount',\n",
    "#                  'Learning_Style', 'Visual _Materials',\n",
    "#                  'Quiz_Importance', 'Cooperativness'.\n",
    "\n",
    "df_new = df.rename(columns = {'What is your background in Computer Science?':'Background_CS',\n",
    "                              'How confident are you with the basics of Computer Science fundamentals?':'Confidence_CS',\n",
    "                              'What platforms do you currently use to study Computer Science?':'Platforms_CS',\n",
    "                              'What features do you look for in a Computer Science course?':'Features_CS',\n",
    "                              'Have you ever purchased an online CS course?':'Purchased',\n",
    "                              'How much would you be willing to spend on a premium monthly subscription for a Computer Science course?':'Max_Amount',\n",
    "                              'What would you say is your learning style?':'Learning_Style',\n",
    "                              \"In the courses you've taken, do you find illustrations, animations, and/or icons distracting or helpful to your understanding of the subject at hand?\":'Visual _Materials',\n",
    "                              'When a course offers a quiz at the end of each lesson/course, do you feel this reinforces your understanding of the content?':'Quiz_Importance',\n",
    "                              'Would you be comfortable staying in contact with illustratedJS, including being interviewed to help in our User Testing phase?':'Cooperativness'})\n",
    "\n",
    "print(df_new.shape)\n",
    "df_new.head(3)\n"
   ]
  },
  {
   "cell_type": "code",
   "execution_count": 30,
   "metadata": {},
   "outputs": [
    {
     "data": {
      "text/plain": [
       "Timestamp            object\n",
       "Username             object\n",
       "Background_CS        object\n",
       "Confidence_CS         int64\n",
       "Platforms_CS         object\n",
       "Features_CS          object\n",
       "Purchased            object\n",
       "Max_Amount           object\n",
       "Learning_Style       object\n",
       "Visual _Materials    object\n",
       "Quiz_Importance      object\n",
       "Cooperativness       object\n",
       "dtype: object"
      ]
     },
     "execution_count": 30,
     "metadata": {},
     "output_type": "execute_result"
    }
   ],
   "source": [
    "df_new.dtypes"
   ]
  },
  {
   "cell_type": "code",
   "execution_count": 31,
   "metadata": {},
   "outputs": [
    {
     "data": {
      "text/plain": [
       "'Up to $20'"
      ]
     },
     "execution_count": 31,
     "metadata": {},
     "output_type": "execute_result"
    }
   ],
   "source": [
    "df_new['Max_Amount'][0]"
   ]
  },
  {
   "cell_type": "code",
   "execution_count": 32,
   "metadata": {},
   "outputs": [],
   "source": [
    "def get_int(cell_contents):\n",
    "    try:\n",
    "        return int(re.sub('\\D', '', cell_contents))\n",
    "    except:\n",
    "        pass"
   ]
  },
  {
   "cell_type": "code",
   "execution_count": 33,
   "metadata": {},
   "outputs": [],
   "source": [
    "df_new['Max_Amount'] = df_new['Max_Amount'].apply(get_int)"
   ]
  },
  {
   "cell_type": "code",
   "execution_count": 34,
   "metadata": {},
   "outputs": [
    {
     "data": {
      "text/html": [
       "<div>\n",
       "<style scoped>\n",
       "    .dataframe tbody tr th:only-of-type {\n",
       "        vertical-align: middle;\n",
       "    }\n",
       "\n",
       "    .dataframe tbody tr th {\n",
       "        vertical-align: top;\n",
       "    }\n",
       "\n",
       "    .dataframe thead th {\n",
       "        text-align: right;\n",
       "    }\n",
       "</style>\n",
       "<table border=\"1\" class=\"dataframe\">\n",
       "  <thead>\n",
       "    <tr style=\"text-align: right;\">\n",
       "      <th></th>\n",
       "      <th>Timestamp</th>\n",
       "      <th>Username</th>\n",
       "      <th>Background_CS</th>\n",
       "      <th>Confidence_CS</th>\n",
       "      <th>Platforms_CS</th>\n",
       "      <th>Features_CS</th>\n",
       "      <th>Purchased</th>\n",
       "      <th>Max_Amount</th>\n",
       "      <th>Learning_Style</th>\n",
       "      <th>Visual _Materials</th>\n",
       "      <th>Quiz_Importance</th>\n",
       "      <th>Cooperativness</th>\n",
       "    </tr>\n",
       "  </thead>\n",
       "  <tbody>\n",
       "    <tr>\n",
       "      <th>0</th>\n",
       "      <td>2020/10/07 3:42:39 PM AST</td>\n",
       "      <td>barbaraloismoore@gmail.com</td>\n",
       "      <td>Bootcamp</td>\n",
       "      <td>3</td>\n",
       "      <td>Youtube;Leet Code</td>\n",
       "      <td>Videos in your CS language;Conceptual visual v...</td>\n",
       "      <td>No</td>\n",
       "      <td>20.0</td>\n",
       "      <td>Visual</td>\n",
       "      <td>Helpful</td>\n",
       "      <td>Yes</td>\n",
       "      <td>Yes</td>\n",
       "    </tr>\n",
       "    <tr>\n",
       "      <th>1</th>\n",
       "      <td>2020/10/07 3:44:56 PM AST</td>\n",
       "      <td>duellrdh@gmail.com</td>\n",
       "      <td>Bootcamp</td>\n",
       "      <td>3</td>\n",
       "      <td>Youtube;CodeCademy;Leet Code;CodeSignal;Lambda...</td>\n",
       "      <td>Videos in your CS language;Documented code;Vis...</td>\n",
       "      <td>Yes</td>\n",
       "      <td>35.0</td>\n",
       "      <td>Read &amp; Write</td>\n",
       "      <td>Helpful</td>\n",
       "      <td>Yes</td>\n",
       "      <td>Yes</td>\n",
       "    </tr>\n",
       "    <tr>\n",
       "      <th>2</th>\n",
       "      <td>2020/10/07 3:47:04 PM AST</td>\n",
       "      <td>christine.fletcher0101@gmail.com</td>\n",
       "      <td>Bootcamp</td>\n",
       "      <td>3</td>\n",
       "      <td>Youtube;Leet Code</td>\n",
       "      <td>Videos in your CS language;Conceptual visual v...</td>\n",
       "      <td>Yes</td>\n",
       "      <td>10.0</td>\n",
       "      <td>Auditory</td>\n",
       "      <td>Helpful</td>\n",
       "      <td>Yes</td>\n",
       "      <td>Yes</td>\n",
       "    </tr>\n",
       "    <tr>\n",
       "      <th>3</th>\n",
       "      <td>2020/10/07 3:47:50 PM AST</td>\n",
       "      <td>natalienetworks@gmail.com</td>\n",
       "      <td>Bootcamp</td>\n",
       "      <td>3</td>\n",
       "      <td>Udemy;Algo Expert;Leet Code;HackerRank</td>\n",
       "      <td>Conceptual visual videos;Documented code;Visua...</td>\n",
       "      <td>Yes</td>\n",
       "      <td>20.0</td>\n",
       "      <td>Kinesthetic</td>\n",
       "      <td>Helpful</td>\n",
       "      <td>No</td>\n",
       "      <td>Yes</td>\n",
       "    </tr>\n",
       "    <tr>\n",
       "      <th>4</th>\n",
       "      <td>2020/10/07 3:49:03 PM AST</td>\n",
       "      <td>joowoonk@gmail.com</td>\n",
       "      <td>Bootcamp</td>\n",
       "      <td>2</td>\n",
       "      <td>Youtube;Leet Code;Educative</td>\n",
       "      <td>Conceptual visual videos;Visualizations/animat...</td>\n",
       "      <td>Yes</td>\n",
       "      <td>20.0</td>\n",
       "      <td>Auditory</td>\n",
       "      <td>Helpful</td>\n",
       "      <td>Yes</td>\n",
       "      <td>No</td>\n",
       "    </tr>\n",
       "  </tbody>\n",
       "</table>\n",
       "</div>"
      ],
      "text/plain": [
       "                   Timestamp                          Username Background_CS  \\\n",
       "0  2020/10/07 3:42:39 PM AST        barbaraloismoore@gmail.com      Bootcamp   \n",
       "1  2020/10/07 3:44:56 PM AST                duellrdh@gmail.com      Bootcamp   \n",
       "2  2020/10/07 3:47:04 PM AST  christine.fletcher0101@gmail.com      Bootcamp   \n",
       "3  2020/10/07 3:47:50 PM AST         natalienetworks@gmail.com      Bootcamp   \n",
       "4  2020/10/07 3:49:03 PM AST                joowoonk@gmail.com      Bootcamp   \n",
       "\n",
       "   Confidence_CS                                       Platforms_CS  \\\n",
       "0              3                                  Youtube;Leet Code   \n",
       "1              3  Youtube;CodeCademy;Leet Code;CodeSignal;Lambda...   \n",
       "2              3                                  Youtube;Leet Code   \n",
       "3              3             Udemy;Algo Expert;Leet Code;HackerRank   \n",
       "4              2                        Youtube;Leet Code;Educative   \n",
       "\n",
       "                                         Features_CS Purchased  Max_Amount  \\\n",
       "0  Videos in your CS language;Conceptual visual v...        No        20.0   \n",
       "1  Videos in your CS language;Documented code;Vis...       Yes        35.0   \n",
       "2  Videos in your CS language;Conceptual visual v...       Yes        10.0   \n",
       "3  Conceptual visual videos;Documented code;Visua...       Yes        20.0   \n",
       "4  Conceptual visual videos;Visualizations/animat...       Yes        20.0   \n",
       "\n",
       "  Learning_Style Visual _Materials Quiz_Importance Cooperativness  \n",
       "0         Visual           Helpful             Yes            Yes  \n",
       "1   Read & Write           Helpful             Yes            Yes  \n",
       "2       Auditory           Helpful             Yes            Yes  \n",
       "3    Kinesthetic           Helpful              No            Yes  \n",
       "4       Auditory           Helpful             Yes             No  "
      ]
     },
     "execution_count": 34,
     "metadata": {},
     "output_type": "execute_result"
    }
   ],
   "source": [
    "df_new.head(5)"
   ]
  },
  {
   "cell_type": "code",
   "execution_count": 35,
   "metadata": {},
   "outputs": [
    {
     "data": {
      "image/png": "[encoded data removed]",
      "text/plain": [
       "<Figure size 432x288 with 1 Axes>"
      ]
     },
     "metadata": {
      "needs_background": "light"
     },
     "output_type": "display_data"
    }
   ],
   "source": [
    "pd.crosstab(df_new['Confidence_CS'],df_new['Max_Amount']).plot();"
   ]
  },
  {
   "cell_type": "code",
   "execution_count": 36,
   "metadata": {},
   "outputs": [
    {
     "data": {
      "text/plain": [
       "'Youtube;Leet Code'"
      ]
     },
     "execution_count": 36,
     "metadata": {},
     "output_type": "execute_result"
    }
   ],
   "source": [
    "df_new['Platforms_CS'][0]"
   ]
  },
  {
   "cell_type": "code",
   "execution_count": 37,
   "metadata": {},
   "outputs": [
    {
     "name": "stdout",
     "output_type": "stream",
     "text": [
      "['Youtube', 'Leet Code']\n"
     ]
    }
   ],
   "source": [
    "print(re.split(';', df_new['Platforms_CS'][0])) "
   ]
  },
  {
   "cell_type": "code",
   "execution_count": 38,
   "metadata": {},
   "outputs": [],
   "source": [
    "def split_str(cell_contents):\n",
    "    try:\n",
    "#         re.split(', ;', cell_contents)\n",
    "        return cell_contents.replace(', ', ';').split(';')\n",
    "    except:\n",
    "        pass"
   ]
  },
  {
   "cell_type": "code",
   "execution_count": 39,
   "metadata": {},
   "outputs": [],
   "source": [
    "df_new['Platforms_CS'] = df_new['Platforms_CS'].apply(split_str)"
   ]
  },
  {
   "cell_type": "code",
   "execution_count": 40,
   "metadata": {},
   "outputs": [
    {
     "data": {
      "text/plain": [
       "0                                   [Youtube, Leet Code]\n",
       "1      [Youtube, CodeCademy, Leet Code, CodeSignal, L...\n",
       "2                                   [Youtube, Leet Code]\n",
       "3            [Udemy, Algo Expert, Leet Code, HackerRank]\n",
       "4                        [Youtube, Leet Code, Educative]\n",
       "                             ...                        \n",
       "129                     [Youtube, Leet Code, HackerRank]\n",
       "130                                            [Youtube]\n",
       "131    [Youtube, Udemy, CodeCademy, Leet Code, Hacker...\n",
       "132         [Youtube, Leet Code, HackerRank, CodeSignal]\n",
       "133    [Leet Code, Lambda school, khan academy, cs50 ...\n",
       "Name: Platforms_CS, Length: 134, dtype: object"
      ]
     },
     "execution_count": 40,
     "metadata": {},
     "output_type": "execute_result"
    }
   ],
   "source": [
    "df_new['Platforms_CS']"
   ]
  },
  {
   "cell_type": "code",
   "execution_count": 41,
   "metadata": {},
   "outputs": [],
   "source": [
    "# df_new['Platforms_CS'][0].split(';').split(', ')"
   ]
  },
  {
   "cell_type": "code",
   "execution_count": 44,
   "metadata": {},
   "outputs": [
    {
     "name": "stdout",
     "output_type": "stream",
     "text": [
      "{'CodeWars': 1, 'Real Python': 1, 'Exercism': 1, 'google': 1, 'Google News': 1, 'NPM': 1, 'GitHub': 1, 'Lambda TK': 1, \"The tech's documentation\": 1, 'geek for geeks': 1, 'MDN': 1, 'textbooks': 1, 'Medium': 1, 'Dev.to': 1, 'LinkedIn Learning': 1, 'I just google a lot ': 1, 'InterviewCake/practice': 1, 'Other various code challenge sites like project Euler': 1, 'and my own small projects': 1, 'Geekforgeeks': 1, 'Lambda School instructing': 1, 'TeamTreehouse': 1, 'Pluralsight': 1, 'I volunteer to write docs or edit materials for projects and become familiar in that manner': 1, 'Not really anything': 1, 'trying to brush up on Web core skills': 1, \"I don't\": 1, 'I just go to work': 1, 'Textbooks': 1, \"Lambda's Training Kit\": 1, 'Interview Cake': 1, 'Lambda CS Material': 1, 'free Intro to CS material from colleges': 1, 'Codility': 1, 'Lambda school': 1, 'khan academy': 1, 'cs50 at harvard': 1, 'cs61 at Berkeley ': 1, 'Books': 2, 'Coursera': 2, 'Lambda': 2, 'Lambda School': 7, 'Educative': 11, 'Algo Expert': 14, 'CodeCademy': 20, 'FrontEnd Masters': 21, 'CodeSignal': 42, 'Udemy': 56, 'HackerRank': 66, 'Leet Code': 85, 'Youtube': 105}\n"
     ]
    }
   ],
   "source": [
    "cache = {}\n",
    "for entry in df_new['Platforms_CS']:\n",
    "    for i in entry:\n",
    "        if i in cache:\n",
    "            cache[i] += 1\n",
    "        else:\n",
    "            cache[i] = 1\n",
    "\n",
    "\n",
    "print({k: v for k, v in sorted(cache.items(), key=lambda item: item[1])})\n",
    "# for key, value in cache.items():\n",
    "#     print(key, value)"
   ]
  },
  {
   "cell_type": "code",
   "execution_count": 43,
   "metadata": {},
   "outputs": [
    {
     "name": "stdout",
     "output_type": "stream",
     "text": [
      "['Youtube']\n",
      "['Leet Code']\n",
      "['CodeCademy']\n",
      "['CodeSignal']\n",
      "['Lambda School']\n",
      "['Udemy']\n",
      "['Algo Expert']\n",
      "['HackerRank']\n",
      "['Educative']\n",
      "['FrontEnd Masters']\n",
      "['CodeWars']\n",
      "['Real Python']\n",
      "['Books']\n",
      "['Exercism']\n",
      "['google']\n",
      "['Google News']\n",
      "['NPM']\n",
      "['GitHub']\n",
      "['Lambda TK']\n",
      "[\"The tech's documentation\"]\n",
      "['geek for geeks']\n",
      "['MDN']\n",
      "['textbooks']\n",
      "['Medium']\n",
      "['Dev.to']\n",
      "['LinkedIn Learning']\n",
      "['I just google a lot ']\n",
      "['InterviewCake/practice']\n",
      "['Other various code challenge sites like project Euler']\n",
      "['and my own small projects']\n",
      "['Coursera']\n",
      "['Lambda']\n",
      "['Geekforgeeks']\n",
      "['Lambda School instructing']\n",
      "['TeamTreehouse']\n",
      "['Pluralsight']\n",
      "['I volunteer to write docs or edit materials for projects and become familiar in that manner']\n",
      "['Not really anything']\n",
      "['trying to brush up on Web core skills']\n",
      "[\"I don't\"]\n",
      "['I just go to work']\n",
      "['Textbooks']\n",
      "[\"Lambda's Training Kit\"]\n",
      "['Interview Cake']\n",
      "['Lambda CS Material']\n",
      "['free Intro to CS material from colleges']\n",
      "['Codility']\n",
      "['Lambda school']\n",
      "['khan academy']\n",
      "['cs50 at harvard']\n",
      "['cs61 at Berkeley ']\n"
     ]
    }
   ],
   "source": [
    "for key in cache.keys():\n",
    "    k = key.split(', ')\n",
    "    print(k)"
   ]
  },
  {
   "cell_type": "code",
   "execution_count": 53,
   "metadata": {},
   "outputs": [
    {
     "data": {
      "text/plain": [
       "Timestamp            0\n",
       "Username             0\n",
       "Background_CS        0\n",
       "Confidence_CS        0\n",
       "Platforms_CS         0\n",
       "Features_CS          0\n",
       "Purchased            0\n",
       "Max_Amount           1\n",
       "Learning_Style       0\n",
       "Visual _Materials    1\n",
       "Quiz_Importance      2\n",
       "Cooperativness       1\n",
       "dtype: int64"
      ]
     },
     "execution_count": 53,
     "metadata": {},
     "output_type": "execute_result"
    }
   ],
   "source": [
    "df_new.isnull().sum()"
   ]
  },
  {
   "cell_type": "code",
   "execution_count": null,
   "metadata": {},
   "outputs": [],
   "source": []
  },
  {
   "cell_type": "code",
   "execution_count": null,
   "metadata": {},
   "outputs": [],
   "source": []
  }
 ],
 "metadata": {
  "kernelspec": {
   "display_name": "Python 3.7.6 64-bit ('base': conda)",
   "language": "python",
   "name": "python37664bitbaseconda7886b02c210b4787b5024f578af5cce4"
  },
  "language_info": {
   "codemirror_mode": {
    "name": "ipython",
    "version": 3
   },
   "file_extension": ".py",
   "mimetype": "text/x-python",
   "name": "python",
   "nbconvert_exporter": "python",
   "pygments_lexer": "ipython3",
   "version": "3.7.6"
  }
 },
 "nbformat": 4,
 "nbformat_minor": 4
}
